{
 "cells": [
  {
   "cell_type": "code",
   "execution_count": 0,
   "metadata": {
    "application/vnd.databricks.v1+cell": {
     "cellMetadata": {
      "byteLimit": 2048000,
      "rowLimit": 10000
     },
     "inputWidgets": {},
     "nuid": "3baf22b2-c876-4b11-af34-e8d731712392",
     "showTitle": false,
     "title": ""
    }
   },
   "outputs": [
    {
     "output_type": "execute_result",
     "data": {
      "text/plain": [
       "True"
      ]
     },
     "execution_count": 1,
     "metadata": {},
     "output_type": "execute_result"
    }
   ],
   "source": [
    "dbutils.fs.cp(\"file:/Workspace/Shared/job_orders_csv.csv\", \"dbfs:/FileStore/job_orders_csv.csv\")"
   ]
  },
  {
   "cell_type": "code",
   "execution_count": 0,
   "metadata": {
    "application/vnd.databricks.v1+cell": {
     "cellMetadata": {
      "byteLimit": 2048000,
      "rowLimit": 10000
     },
     "inputWidgets": {},
     "nuid": "e8dce151-fc8a-47af-b9f8-8adfc757957a",
     "showTitle": false,
     "title": ""
    }
   },
   "outputs": [
    {
     "output_type": "stream",
     "name": "stdout",
     "output_type": "stream",
     "text": [
      "+-------+----------+----------+-------+--------+-----+-----------+\n|OrderID| OrderDate|CustomerID|Product|Quantity|Price|TotalAmount|\n+-------+----------+----------+-------+--------+-----+-----------+\n|    101|2024-01-01|      C001| Laptop|       2| 1000|       2000|\n|    102|2024-01-02|      C002|  Phone|       1|  500|        500|\n|    103|2024-01-03|      C003| Tablet|       3|  300|        900|\n|    104|2024-01-04|      C004|Monitor|       1|  150|        150|\n|    105|2024-01-05|      C005|  Mouse|       5|   20|        100|\n+-------+----------+----------+-------+--------+-----+-----------+\n\n"
     ]
    }
   ],
   "source": [
    "from pyspark.sql.functions import col\n",
    "\n",
    "df_job_orders = spark.read.csv(\"dbfs:/FileStore/job_orders_csv.csv\", header=True, inferSchema=True)\n",
    "\n",
    "df_transformed = df_job_orders.withColumn(\"TotalAmount\", col(\"Quantity\") * col(\"Price\"))\n",
    "\n",
    "df_filtered = df_transformed.filter(col(\"TotalAmount\") > 5)\n",
    "\n",
    "df_filtered.write.format(\"delta\").mode(\"overwrite\").save(\"dbfs:/FileStore/job_orders_delta\")\n",
    "\n",
    "delta_df = spark.read.format(\"delta\").load(\"dbfs:/FileStore/job_orders_delta\")\n",
    "delta_df.show()"
   ]
  }
 ],
 "metadata": {
  "application/vnd.databricks.v1+notebook": {
   "dashboards": [],
   "environmentMetadata": {
    "base_environment": "",
    "client": "1"
   },
   "language": "python",
   "notebookMetadata": {
    "pythonIndentUnit": 4
   },
   "notebookName": "Job-Exercise-17th",
   "widgets": {}
  }
 },
 "nbformat": 4,
 "nbformat_minor": 0
}
