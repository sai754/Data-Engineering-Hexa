{
 "cells": [
  {
   "cell_type": "code",
   "execution_count": 0,
   "metadata": {
    "application/vnd.databricks.v1+cell": {
     "cellMetadata": {
      "byteLimit": 2048000,
      "rowLimit": 10000
     },
     "inputWidgets": {},
     "nuid": "ee02e106-2bf7-45bc-a50d-a29394bbb1a3",
     "showTitle": false,
     "title": ""
    }
   },
   "outputs": [],
   "source": [
    "from pyspark.sql.functions import col\n",
    "\n",
    "csv_schema = \"TransactionID STRING, TransactionDate STRING, ProductID STRING, Quantity INT, Price INT\" \n",
    "\n",
    "product_stream = spark.readStream.format(\"csv\").option(\"header\",\"true\").schema(csv_schema).load(\"file:/Workspace/Shared/streaming_csv\")\n",
    "\n",
    "# Task 1\n",
    "query = product_stream.writeStream.outputMode(\"append\").format(\"console\").start()\n",
    "\n",
    "# Task 2 Stream Transformations\n",
    "# Total Amount\n",
    "product_stream_transformed = product_stream.withColumn(\"TotalAmount\", col(\"Quantity\") * col(\"Price\"))\n",
    "\n",
    "# Filter\n",
    "product_stream_filtered = product_stream_transformed.filter(col(\"Quantity\")>1)\n",
    "\n",
    "query2 = product_stream_filtered.writeStream.outputMode(\"append\").format(\"memory\").queryName(\"filtered_product\").start()\n"
   ]
  },
  {
   "cell_type": "code",
   "execution_count": 0,
   "metadata": {
    "application/vnd.databricks.v1+cell": {
     "cellMetadata": {
      "byteLimit": 2048000,
      "rowLimit": 10000
     },
     "inputWidgets": {},
     "nuid": "9aae5923-2a68-4c98-a0ed-4d0ebe363800",
     "showTitle": false,
     "title": ""
    }
   },
   "outputs": [
    {
     "output_type": "stream",
     "name": "stdout",
     "output_type": "stream",
     "text": [
      "Filtered Products\n+-------------+---------------+---------+--------+-----+-----------+\n|TransactionID|TransactionDate|ProductID|Quantity|Price|TotalAmount|\n+-------------+---------------+---------+--------+-----+-----------+\n|         T101|     2024-01-01|   Laptop|       2| 1200|       2400|\n|         T103|     2024-01-03|   Tablet|       3|  600|       1800|\n|         T105|     2024-01-05|    Mouse|       5|   25|        125|\n+-------------+---------------+---------+--------+-----+-----------+\n\n"
     ]
    }
   ],
   "source": [
    "query.stop()\n",
    "query2.stop()\n",
    "\n",
    "print(\"Filtered Products\")\n",
    "spark.sql(\"SELECT * FROM filtered_product\").show()\n"
   ]
  },
  {
   "cell_type": "code",
   "execution_count": 0,
   "metadata": {
    "application/vnd.databricks.v1+cell": {
     "cellMetadata": {
      "byteLimit": 2048000,
      "rowLimit": 10000
     },
     "inputWidgets": {},
     "nuid": "e9c994db-21d1-42c9-8edb-fa9d4abdc0b4",
     "showTitle": false,
     "title": ""
    }
   },
   "outputs": [],
   "source": [
    "from pyspark.sql.functions import sum\n",
    "# Task 3 Aggregated\n",
    "\n",
    "aggregated_df = product_stream_transformed.groupBy(\"ProductID\").agg(sum(\"TotalAmount\").alias(\"TotalSales\"))\n",
    "\n",
    "query3 = aggregated_df.writeStream.outputMode(\"update\").format(\"memory\").queryName(\"aggregated_sales\").start()"
   ]
  },
  {
   "cell_type": "code",
   "execution_count": 0,
   "metadata": {
    "application/vnd.databricks.v1+cell": {
     "cellMetadata": {
      "byteLimit": 2048000,
      "rowLimit": 10000
     },
     "inputWidgets": {},
     "nuid": "bf4b391e-09de-4d5d-b489-9cbdd527184a",
     "showTitle": false,
     "title": ""
    }
   },
   "outputs": [
    {
     "output_type": "stream",
     "name": "stdout",
     "output_type": "stream",
     "text": [
      "Aggregated Sales\n+---------+----------+\n|ProductID|TotalSales|\n+---------+----------+\n|    Phone|       800|\n|   Laptop|      2400|\n|    Mouse|       125|\n|   Tablet|      1800|\n|  Monitor|       300|\n+---------+----------+\n\n"
     ]
    }
   ],
   "source": [
    "query3.stop()\n",
    "\n",
    "print(\"Aggregated Sales\")\n",
    "spark.sql(\"SELECT * FROM aggregated_sales\").show()"
   ]
  },
  {
   "cell_type": "code",
   "execution_count": 0,
   "metadata": {
    "application/vnd.databricks.v1+cell": {
     "cellMetadata": {
      "byteLimit": 2048000,
      "rowLimit": 10000
     },
     "inputWidgets": {},
     "nuid": "bd56a8cf-f0af-4045-b3b3-5152662c1ce3",
     "showTitle": false,
     "title": ""
    }
   },
   "outputs": [],
   "source": [
    "# Task 4 Stream results to parquet \n",
    "parquet_output_path = \"/Workspace/Shared/parquet_output\"\n",
    "checkpoint = \"/Workspace/Shared/checkpoint\"\n",
    "\n",
    "query4 = product_stream_transformed.writeStream.format(\"parquet\").outputMode(\"append\").option(\"checkpointLocation\", checkpoint).option(\"path\", parquet_output_path).start()"
   ]
  },
  {
   "cell_type": "code",
   "execution_count": 0,
   "metadata": {
    "application/vnd.databricks.v1+cell": {
     "cellMetadata": {
      "byteLimit": 2048000,
      "rowLimit": 10000
     },
     "inputWidgets": {},
     "nuid": "ff7218d0-ef41-4b85-8dc9-06eca69d853a",
     "showTitle": false,
     "title": ""
    }
   },
   "outputs": [],
   "source": [
    "query4.stop()"
   ]
  },
  {
   "cell_type": "code",
   "execution_count": 0,
   "metadata": {
    "application/vnd.databricks.v1+cell": {
     "cellMetadata": {},
     "inputWidgets": {},
     "nuid": "baf47bf2-2ac1-42ac-8905-3abe34d48447",
     "showTitle": false,
     "title": ""
    }
   },
   "outputs": [],
   "source": [
    "# Task 5 Watermarks\n",
    "watermarked_df = product_stream_transformed.withWatermark(\"TransactionDate\", \"1 day\")"
   ]
  },
  {
   "cell_type": "code",
   "execution_count": 0,
   "metadata": {
    "application/vnd.databricks.v1+cell": {
     "cellMetadata": {
      "byteLimit": 2048000,
      "rowLimit": 10000
     },
     "inputWidgets": {},
     "nuid": "2cb32c66-f8f9-474d-94df-785aef70dbe3",
     "showTitle": false,
     "title": ""
    }
   },
   "outputs": [],
   "source": [
    "# Task 6\n",
    "\n",
    "product_schema = \"ProductID STRING, ProductName STRING, Category STRING\"\n",
    "\n",
    "productinfo_stream = spark.readStream.format(\"csv\").option(\"header\",\"true\").schema(product_schema).load(\"file:/Workspace/Shared/join_stream/\")\n",
    "\n",
    "joined_stream = product_stream.join(productinfo_stream, on=\"ProductID\", how=\"inner\")\n",
    "\n",
    "join_query = joined_stream.writeStream.format(\"memory\").outputMode(\"append\").queryName(\"joined_stream\").start()"
   ]
  },
  {
   "cell_type": "code",
   "execution_count": 0,
   "metadata": {
    "application/vnd.databricks.v1+cell": {
     "cellMetadata": {
      "byteLimit": 2048000,
      "rowLimit": 10000
     },
     "inputWidgets": {},
     "nuid": "2313f9d1-e744-4ffb-85d9-3e60dd77394c",
     "showTitle": false,
     "title": ""
    }
   },
   "outputs": [],
   "source": [
    "join_query.stop()"
   ]
  }
 ],
 "metadata": {
  "application/vnd.databricks.v1+notebook": {
   "dashboards": [],
   "environmentMetadata": {
    "base_environment": "",
    "client": "1"
   },
   "language": "python",
   "notebookMetadata": {
    "pythonIndentUnit": 4
   },
   "notebookName": "Streaming-Exercise-17th",
   "widgets": {}
  }
 },
 "nbformat": 4,
 "nbformat_minor": 0
}
