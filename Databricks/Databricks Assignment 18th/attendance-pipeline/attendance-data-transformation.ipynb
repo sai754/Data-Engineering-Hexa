{
 "cells": [
  {
   "cell_type": "code",
   "execution_count": 0,
   "metadata": {
    "application/vnd.databricks.v1+cell": {
     "cellMetadata": {},
     "inputWidgets": {},
     "nuid": "357751eb-64df-4ed1-a3d5-d8812bc7828e",
     "showTitle": false,
     "title": ""
    }
   },
   "outputs": [],
   "source": [
    "from pyspark.sql import SparkSession\n",
    "from pyspark.sql.functions import col, sum, month, year, lit\n",
    "from datetime import datetime\n",
    "\n",
    "spark = SparkSession.builder.appName(\"AttendanceSummary\").getOrCreate()\n",
    "\n",
    "current_date = datetime.now()\n",
    "current_year = current_date.year\n",
    "current_month = current_date.month\n",
    "\n",
    "\n",
    "delta_table_path = \"/delta/attendance_data_cleaned\"\n",
    "\n",
    "try: \n",
    "    attendance_df = spark.read.format(\"delta\").load(delta_table_path)\n",
    "\n",
    "    attendance_current_month_df = attendance_df.filter(\n",
    "        (year(col(\"Date\")) == lit(current_year)) &\n",
    "        (month(col(\"Date\")) == lit(current_month)))\n",
    "\n",
    "    total_hours_df = attendance_current_month_df.groupBy(\"EmployeeID\").agg(\n",
    "        sum(\"HoursWorked\").alias(\"TotalHoursWorked\"))\n",
    "\n",
    "    print(\"Total Hours Worked by Each Employee for Current Month:\")\n",
    "    total_hours_df.show()\n",
    "\n",
    "    overtime_df = attendance_current_month_df.filter(col(\"HoursWorked\") > 8).select(\"EmployeeID\", \"Date\", \"HoursWorked\")\n",
    "\n",
    "    print(\"Employees Who Worked Overtime:\")\n",
    "    overtime_df.show()\n",
    "\n",
    "    total_hours_df.write.format(\"delta\").mode(\"overwrite\").save(\"/delta/attendance_summary\")\n",
    "\n",
    "    overtime_df.write.format(\"delta\").mode(\"overwrite\").save(\"/delta/attendance_overtime\")\n",
    "    \n",
    "except AnalysisException:\n",
    "    print(\"Delta Table not found\")\n"
   ]
  }
 ],
 "metadata": {
  "application/vnd.databricks.v1+notebook": {
   "dashboards": [],
   "environmentMetadata": null,
   "language": "python",
   "notebookMetadata": {
    "pythonIndentUnit": 4
   },
   "notebookName": "attendance-data-transformation",
   "widgets": {}
  }
 },
 "nbformat": 4,
 "nbformat_minor": 0
}
