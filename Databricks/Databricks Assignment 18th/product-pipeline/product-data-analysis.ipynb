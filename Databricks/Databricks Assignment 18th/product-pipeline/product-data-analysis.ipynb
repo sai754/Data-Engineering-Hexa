{
 "cells": [
  {
   "cell_type": "code",
   "execution_count": 0,
   "metadata": {
    "application/vnd.databricks.v1+cell": {
     "cellMetadata": {},
     "inputWidgets": {},
     "nuid": "d08093c6-2144-4034-8f0c-b3b1cd0bf851",
     "showTitle": false,
     "title": ""
    }
   },
   "outputs": [],
   "source": [
    "from pyspark.sql import SparkSession\n",
    "from pyspark.sql.utils import AnalysisException\n",
    "from pyspark.sql import functions as F\n",
    "\n",
    "spark = SparkSession.builder.appName(\"InventoryAnalysis\").getOrCreate()\n",
    "\n",
    "cleaned_delta_file_path = \"/delta/product_inventory_cleaned\"\n",
    "\n",
    "try:\n",
    "    inventory_df = spark.read.format(\"delta\").load(cleaned_delta_file_path)\n",
    "\n",
    "    print(\"Cleaned Product Inventory Data:\")\n",
    "    inventory_df.show()\n",
    "\n",
    "    inventory_analysis_df = inventory_df.withColumn(\n",
    "        \"TotalStockValue\",F.col(\"StockQuantity\") * F.col(\"Price\"))\n",
    "\n",
    "    restocking_df = inventory_analysis_df.filter(F.col(StockQuantity) < 100)\n",
    "\n",
    "    print(\"Inventory Analysis Results:\")\n",
    "    inventory_analysis_df.show()\n",
    "    \n",
    "    print(\"Products Needing Restocking:\")\n",
    "    restocking_df.show()\n",
    "\n",
    "    inventory_analysis_df.write.format(\"delta\").mode(\"overwrite\").save(\"/delta/inventory_analysis\")\n",
    "    print(\"Inventory analysis results saved successfully\")\n",
    "\n",
    "except AnalysisException:\n",
    "    print(\"Cleaned Delta table not found\")\n",
    "except Exception as e:\n",
    "    print(f\"An error occurred: {str(e)}\")\n"
   ]
  }
 ],
 "metadata": {
  "application/vnd.databricks.v1+notebook": {
   "dashboards": [],
   "environmentMetadata": null,
   "language": "python",
   "notebookMetadata": {
    "pythonIndentUnit": 4
   },
   "notebookName": "product-data-analysis",
   "widgets": {}
  }
 },
 "nbformat": 4,
 "nbformat_minor": 0
}
