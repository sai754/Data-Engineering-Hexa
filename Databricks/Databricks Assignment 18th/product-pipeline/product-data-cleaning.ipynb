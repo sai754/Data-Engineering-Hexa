{
 "cells": [
  {
   "cell_type": "code",
   "execution_count": 0,
   "metadata": {
    "application/vnd.databricks.v1+cell": {
     "cellMetadata": {},
     "inputWidgets": {},
     "nuid": "146f72af-1a8c-416e-b3c3-7bfd6e3a21ee",
     "showTitle": false,
     "title": ""
    }
   },
   "outputs": [],
   "source": [
    "from pyspark.sql import SparkSession\n",
    "from pyspark.sql.utils import AnalysisException\n",
    "\n",
    "spark = SparkSession.builder.appName(\"ProductInventoryDataCleaning\").getOrCreate()\n",
    "\n",
    "delta_file_path = \"/delta/product_inventory\"\n",
    "\n",
    "try:\n",
    "    inventory_df = spark.read.format(\"delta\").load(delta_file_path)\n",
    "\n",
    "    print(\"Original Product Inventory Data:\")\n",
    "    inventory_df.show()\n",
    "\n",
    "    cleaned_inventory_df = inventory_df.na.drop(subset=[\"StockQuantity,Price\"])\n",
    "\n",
    "    cleaned_inventory_df = cleaned_inventory_df.filter(col(StockQuantity) >= 0)\n",
    "\n",
    "    print(\"Cleaned Product Inventory Data:\")\n",
    "    cleaned_inventory_df.show()\n",
    "\n",
    "    cleaned_inventory_df.write.format(\"delta\").mode(\"overwrite\").save(\"/delta/product_inventory_cleaned\")\n",
    "    print(\"Cleaned product inventory data saved successfully\")\n",
    "\n",
    "except AnalysisException:\n",
    "    print(\"Delta table not found\")\n",
    "except Exception as e:\n",
    "    print(f\"An error occurred: {str(e)}\")\n"
   ]
  }
 ],
 "metadata": {
  "application/vnd.databricks.v1+notebook": {
   "dashboards": [],
   "environmentMetadata": null,
   "language": "python",
   "notebookMetadata": {
    "pythonIndentUnit": 4
   },
   "notebookName": "product-data-cleaning",
   "widgets": {}
  }
 },
 "nbformat": 4,
 "nbformat_minor": 0
}
