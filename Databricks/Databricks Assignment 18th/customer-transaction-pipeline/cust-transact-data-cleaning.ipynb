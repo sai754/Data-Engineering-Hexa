{
 "cells": [
  {
   "cell_type": "code",
   "execution_count": 0,
   "metadata": {
    "application/vnd.databricks.v1+cell": {
     "cellMetadata": {},
     "inputWidgets": {},
     "nuid": "aeacc857-099d-41a4-bbd9-8d7ec0d7a368",
     "showTitle": false,
     "title": ""
    }
   },
   "outputs": [],
   "source": [
    "from pyspark.sql import SparkSession\n",
    "from pyspark.sql.utils import AnalysisException\n",
    "\n",
    "spark = SparkSession.builder.appName(\"CustomerDataCleaning\").getOrCreate()\n",
    "\n",
    "delta_file_path = \"/delta/customer_data\"\n",
    "\n",
    "try:\n",
    "    customer_df = spark.read.format(\"delta\").load(delta_file_path)\n",
    "    print(\"Original Customer Data:\")\n",
    "    customer_df.show()\n",
    "\n",
    "    cleaned_customer_df = customer_df.dropDuplicates()\n",
    "    cleaned_customer_df = cleaned_customer_df.na.fill({\"TransactionAmount\": 0.0})\n",
    "\n",
    "    print(\"Cleaned Customer Data:\")\n",
    "    cleaned_customer_df.show()\n",
    "\n",
    "    cleaned_customer_df.write.format(\"delta\").mode(\"overwrite\").save(\"/delta/customer_data_cleaned\")\n",
    "    print(\"Cleaned customer data saved successfully\")\n",
    "except AnalysisException:\n",
    "    print(\"Delta table not found\")\n",
    "except Exception as e:\n",
    "    print(f\"An error occurred: {str(e)}\")\n"
   ]
  }
 ],
 "metadata": {
  "application/vnd.databricks.v1+notebook": {
   "dashboards": [],
   "environmentMetadata": null,
   "language": "python",
   "notebookMetadata": {
    "pythonIndentUnit": 4
   },
   "notebookName": "cust-transact-data-cleaning",
   "widgets": {}
  }
 },
 "nbformat": 4,
 "nbformat_minor": 0
}
