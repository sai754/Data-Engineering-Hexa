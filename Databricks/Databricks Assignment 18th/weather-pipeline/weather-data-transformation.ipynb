{
 "cells": [
  {
   "cell_type": "code",
   "execution_count": 0,
   "metadata": {
    "application/vnd.databricks.v1+cell": {
     "cellMetadata": {},
     "inputWidgets": {},
     "nuid": "e41ea257-93f2-4a40-a327-6d961f1b7cb3",
     "showTitle": false,
     "title": ""
    }
   },
   "outputs": [],
   "source": [
    "from pyspark.sql import SparkSession\n",
    "from pyspark.sql import functions as F\n",
    "from pyspark.sql.utils import AnalysisException\n",
    "\n",
    "spark = SparkSession.builder.appName(\"WeatherDataTransformation\").getOrCreate()\n",
    "\n",
    "cleaned_delta_file_path = \"/delta/weather_data_cleaned\"\n",
    "\n",
    "try:\n",
    "    cleaned_weather_df = spark.read.format(\"delta\").load(cleaned_delta_file_path)\n",
    "\n",
    "    transformed_data_df = cleaned_weather_df.groupBy(\"City\").agg(\n",
    "        F.avg(\"Temperature\").alias(\"Average_Temperature\"),\n",
    "        F.avg(\"Humidity\").alias(\"Average_Humidity\")\n",
    "    )\n",
    "\n",
    "    print(\"Transformed Data:\")\n",
    "    transformed_data_df.show()\n",
    "    \n",
    "    transformed_data_df.write.format(\"delta\").mode(\"overwrite\").save(\"/delta/weather_data_transformed\")\n",
    "    print(\"Transformed data saved successfully.\")\n",
    "\n",
    "except AnalysisException:\n",
    "    print(\"Cleaned Delta table not found\")\n",
    "except Exception as e:\n",
    "    print(f\"An error occurred: {str(e)}\")\n"
   ]
  }
 ],
 "metadata": {
  "application/vnd.databricks.v1+notebook": {
   "dashboards": [],
   "environmentMetadata": null,
   "language": "python",
   "notebookMetadata": {
    "pythonIndentUnit": 4
   },
   "notebookName": "weather-data-transformation",
   "widgets": {}
  }
 },
 "nbformat": 4,
 "nbformat_minor": 0
}
