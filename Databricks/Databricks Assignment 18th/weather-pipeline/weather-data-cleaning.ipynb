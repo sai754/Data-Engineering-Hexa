{
 "cells": [
  {
   "cell_type": "code",
   "execution_count": 0,
   "metadata": {
    "application/vnd.databricks.v1+cell": {
     "cellMetadata": {},
     "inputWidgets": {},
     "nuid": "3f27d98a-0ea7-4ada-843d-50ed27ce857a",
     "showTitle": false,
     "title": ""
    }
   },
   "outputs": [],
   "source": [
    "from pyspark.sql import SparkSession\n",
    "import os\n",
    "\n",
    "spark = SparkSession.builder.appName(\"WeatherDataCleaning\").getOrCreate()\n",
    "\n",
    "delta_file_path = \"/delta/weather_data\"\n",
    "\n",
    "if os.path.exists(delta_file_path):\n",
    "    try:\n",
    "        raw_weather_df = spark.read.format(\"delta\").load(\"/delta/weather_data_raw\")\n",
    "\n",
    "        cleaned_weather_df = raw_weather_df.na.drop()\n",
    "        print(\"Cleaned Data:\")\n",
    "        cleaned_weather_df.show()\n",
    "        \n",
    "        cleaned_weather_df.write.format(\"delta\").mode(\"overwrite\").save(\"/delta/weather_data_cleaned\")\n",
    "    except AnalysisException:\n",
    "        print(\"File not found\")\n",
    "else:\n",
    "    print(\"Path does not exists\")"
   ]
  }
 ],
 "metadata": {
  "application/vnd.databricks.v1+notebook": {
   "dashboards": [],
   "environmentMetadata": null,
   "language": "python",
   "notebookMetadata": {
    "pythonIndentUnit": 4
   },
   "notebookName": "weather-data-cleaning",
   "widgets": {}
  }
 },
 "nbformat": 4,
 "nbformat_minor": 0
}
