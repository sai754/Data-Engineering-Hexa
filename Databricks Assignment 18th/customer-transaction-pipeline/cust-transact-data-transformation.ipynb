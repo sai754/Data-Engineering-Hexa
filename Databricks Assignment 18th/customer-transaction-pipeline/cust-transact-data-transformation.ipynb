{
 "cells": [
  {
   "cell_type": "code",
   "execution_count": 0,
   "metadata": {
    "application/vnd.databricks.v1+cell": {
     "cellMetadata": {},
     "inputWidgets": {},
     "nuid": "332e3b95-bb0e-4746-862e-ffd3fa966691",
     "showTitle": false,
     "title": ""
    }
   },
   "outputs": [],
   "source": [
    "from pyspark.sql import SparkSession\n",
    "from pyspark.sql.utils import AnalysisException\n",
    "from pyspark.sql import functions as F\n",
    "\n",
    "spark = SparkSession.builder.appName(\"CustomerDataAggregation\").getOrCreate()\n",
    "\n",
    "cleaned_delta_file_path = \"/delta/customer_data_cleaned\"\n",
    "\n",
    "try:\n",
    "    cleaned_customer_df = spark.read.format(\"delta\").load(cleaned_delta_file_path)\n",
    "\n",
    "    print(\"Cleaned Customer Data:\")\n",
    "    cleaned_customer_df.show()\n",
    "\n",
    "    aggregated_data_df = cleaned_customer_df.groupBy(\"ProductCategory\").agg(\n",
    "        F.sum(\"TransactionAmount\").alias(\"Total_Transaction_Amount\")\n",
    "    )\n",
    "    print(\"Aggregated Data:\")\n",
    "    aggregated_data_df.show()\n",
    "\n",
    "    aggregated_data_df.write.format(\"delta\").mode(\"overwrite\").save(\"/delta/customer_data_aggregated\")\n",
    "    print(\"Aggregated customer data saved successfully\")\n",
    "\n",
    "except AnalysisException:\n",
    "    print(\"Cleaned Delta table not found\")\n",
    "except Exception as e:\n",
    "    print(f\"An error occurred: {str(e)}\")\n"
   ]
  }
 ],
 "metadata": {
  "application/vnd.databricks.v1+notebook": {
   "dashboards": [],
   "environmentMetadata": null,
   "language": "python",
   "notebookMetadata": {
    "pythonIndentUnit": 4
   },
   "notebookName": "cust-transact-data-transformation",
   "widgets": {}
  }
 },
 "nbformat": 4,
 "nbformat_minor": 0
}
