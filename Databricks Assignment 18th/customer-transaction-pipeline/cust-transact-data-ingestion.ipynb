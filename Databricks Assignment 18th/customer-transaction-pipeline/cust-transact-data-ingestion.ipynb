{
 "cells": [
  {
   "cell_type": "code",
   "execution_count": 0,
   "metadata": {
    "application/vnd.databricks.v1+cell": {
     "cellMetadata": {},
     "inputWidgets": {},
     "nuid": "13c44e90-1430-4e37-8a76-91bd0d72e0db",
     "showTitle": false,
     "title": ""
    }
   },
   "outputs": [],
   "source": [
    "from pyspark.sql import SparkSession\n",
    "import os\n",
    "\n",
    "spark = SparkSession.builder.appName(\"CustomerDataIngestion\").getOrCreate()\n",
    "\n",
    "csv_file_path = \"/dbfs/FileStore/customer_transactions.csv\"\n",
    "\n",
    "\n",
    "if os.path.exists(csv_file_path):\n",
    "    try:\n",
    "        customer_schema = \"CustomerID STRING, TransactionDate DATE, TransactionAmount DOUBLE, ProductCategory STRING\"\n",
    "\n",
    "        customer_df = spark.read.format(\"csv\").option(\"header\", \"true\").schema(customer_schema).load(csv_file_path)\n",
    "\n",
    "        print(\"Customer Data:\")\n",
    "        customer_df.show()\n",
    "\n",
    "        customer_df.write.format(\"delta\").mode(\"overwrite\").save(\"/delta/customer_data\")\n",
    "        print(\"Customer data saved successfully.\")\n",
    "        \n",
    "    except Exception as e:\n",
    "        print(f\"An error occurred: {str(e)}\")\n",
    "else:\n",
    "    print(\"CSV file does not exist.\")\n"
   ]
  }
 ],
 "metadata": {
  "application/vnd.databricks.v1+notebook": {
   "dashboards": [],
   "environmentMetadata": null,
   "language": "python",
   "notebookMetadata": {
    "pythonIndentUnit": 4
   },
   "notebookName": "cust-transact-data-ingestion",
   "widgets": {}
  }
 },
 "nbformat": 4,
 "nbformat_minor": 0
}
