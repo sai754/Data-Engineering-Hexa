{
 "cells": [
  {
   "cell_type": "code",
   "execution_count": 0,
   "metadata": {
    "application/vnd.databricks.v1+cell": {
     "cellMetadata": {},
     "inputWidgets": {},
     "nuid": "ca586381-b6fe-41be-95df-27b631584e4d",
     "showTitle": false,
     "title": ""
    }
   },
   "outputs": [],
   "source": [
    "from pyspark.sql import SparkSession\n",
    "import os\n",
    "\n",
    "spark = SparkSession.builder.appName(\"WeatherDataIngestion\").getOrCreate()\n",
    "\n",
    "weather_schema = \"City STRING, Date DATE, Temperature DOUBLE, Humidity INT\"\n",
    "\n",
    "csv_file_path = 'dbfs:/FileStore/weather_data.csv'\n",
    "\n",
    "if os.path.exists(csv_file_path):\n",
    "    try:\n",
    "        weather_df = spark.read.format(\"csv\").option(\"header\", \"true\").schema(weather_schema).load(csv_file_path)\n",
    "\n",
    "        weather_df.write.format(\"delta\").mode(\"overwrite\").save(\"/delta/wather_data\")\n",
    "    except FileNotFoundError as e:\n",
    "        print(f\"Error: {str(e)}\")\n",
    "else:\n",
    "    print(\"path does not exists\")\n"
   ]
  }
 ],
 "metadata": {
  "application/vnd.databricks.v1+notebook": {
   "dashboards": [],
   "environmentMetadata": null,
   "language": "python",
   "notebookMetadata": {
    "pythonIndentUnit": 4
   },
   "notebookName": "weather-data-loading",
   "widgets": {}
  }
 },
 "nbformat": 4,
 "nbformat_minor": 0
}
