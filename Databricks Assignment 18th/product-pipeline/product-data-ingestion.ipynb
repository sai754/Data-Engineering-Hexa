{
 "cells": [
  {
   "cell_type": "code",
   "execution_count": 0,
   "metadata": {
    "application/vnd.databricks.v1+cell": {
     "cellMetadata": {},
     "inputWidgets": {},
     "nuid": "dbc7c7e6-8d3b-4155-a719-b3db92ff7108",
     "showTitle": false,
     "title": ""
    }
   },
   "outputs": [],
   "source": [
    "from pyspark.sql import SparkSession\n",
    "import os\n",
    "\n",
    "spark = SparkSession.builder.appName(\"ProductInventoryDataIngestion\").getOrCreate()\n",
    "\n",
    "csv_file_path = \"/dbfs/FileStore/product_inventory.csv\"\n",
    "\n",
    "if os.path.exists(csv_file_path):\n",
    "    try:\n",
    "        inventory_schema = \"ProductID STRING, ProductName STRING, StockQuantity INT, Price DOUBLE, LastRestocked DATE\"\n",
    "\n",
    "        inventory_df = spark.read.format(\"csv\").option(\"header\", \"true\").schema(inventory_schema).load(csv_file_path)\n",
    "\n",
    "        print(\"Product Inventory Data:\")\n",
    "        inventory_df.show()\n",
    "\n",
    "        inventory_df.write.format(\"delta\").mode(\"overwrite\").save(\"/delta/product_inventory\")\n",
    "        print(\"Product inventory data saved successfully\")\n",
    "        \n",
    "    except Exception as e:\n",
    "        print(f\"An error occurred: {str(e)}\")\n",
    "else:\n",
    "    print(\"CSV file does not exist\")\n"
   ]
  }
 ],
 "metadata": {
  "application/vnd.databricks.v1+notebook": {
   "dashboards": [],
   "environmentMetadata": null,
   "language": "python",
   "notebookMetadata": {
    "pythonIndentUnit": 4
   },
   "notebookName": "product-data-ingestion",
   "widgets": {}
  }
 },
 "nbformat": 4,
 "nbformat_minor": 0
}
