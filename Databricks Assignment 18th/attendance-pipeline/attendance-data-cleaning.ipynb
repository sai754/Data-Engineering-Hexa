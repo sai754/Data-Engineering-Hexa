{
 "cells": [
  {
   "cell_type": "code",
   "execution_count": 0,
   "metadata": {
    "application/vnd.databricks.v1+cell": {
     "cellMetadata": {},
     "inputWidgets": {},
     "nuid": "57ead166-0e2f-4718-881a-f2497b65565f",
     "showTitle": false,
     "title": ""
    }
   },
   "outputs": [],
   "source": [
    "from pyspark.sql import SparkSession\n",
    "from pyspark.sql.functions import col, timestampdiff\n",
    "import os\n",
    "\n",
    "spark = SparkSession.builder.appName(\"EmployeeAttendanceCleaning\").getOrCreate()\n",
    "\n",
    "delta_table_path = \"/delta/attendance_data\"\n",
    "\n",
    "try:\n",
    "    attendance_df = spark.read.format(\"delta\").load(delta_table_path)\n",
    "\n",
    "    cleaned_attendance_df = attendance_df.na.drop(subset=[\"CheckInTime,CheckOutTime\"])\n",
    "\n",
    "    cleaned_attendance_df = cleaned_attendance_df.withColumn(\"HoursWorked\",\n",
    "    timestampdiff(\"HOUR\",col(\"CheckInTime\"), col(\"CheckOutTime\")))\n",
    "\n",
    "    cleaned_attendance_df.write.format(\"delta\").mode(\"overwrite\").save(\"/delta/attendance_data_cleaned\")\n",
    "\n",
    "except AnalysisException:\n",
    "    print(\"Delta table not found\")\n",
    "except Exception as e:\n",
    "    print(f\"An error occurred: {str(e)}\")\n",
    "\n",
    "\n"
   ]
  }
 ],
 "metadata": {
  "application/vnd.databricks.v1+notebook": {
   "dashboards": [],
   "environmentMetadata": null,
   "language": "python",
   "notebookMetadata": {
    "pythonIndentUnit": 4
   },
   "notebookName": "attendance-data-cleaning",
   "widgets": {}
  }
 },
 "nbformat": 4,
 "nbformat_minor": 0
}
