{
 "cells": [
  {
   "cell_type": "code",
   "execution_count": 0,
   "metadata": {
    "application/vnd.databricks.v1+cell": {
     "cellMetadata": {},
     "inputWidgets": {},
     "nuid": "06607e79-a941-4397-933b-6bf6c3ec8126",
     "showTitle": false,
     "title": ""
    }
   },
   "outputs": [],
   "source": [
    "from pyspark.sql import SparkSession\n",
    "import os\n",
    "\n",
    "spark = SparkSession.builder.appName(\"EmployeeAttendanceIngestion\").getOrCreate()\n",
    "\n",
    "attendance_schema = \"EmployeeID STRING, Date DATE, CheckInTime STRING, CheckOutTime STRING, HoursWorked DOUBLE\"\n",
    "\n",
    "csv_file_path = 'dbfs:/FileStore/attendance_data.csv'\n",
    "\n",
    "if os.path.exists(csv_file_path):\n",
    "    try:\n",
    "        attendance_df = spark.read.format(\"csv\").option(\"header\", \"true\").schema(attendance_schema).load(csv_file_path)\n",
    "\n",
    "        attendance_df.write.format(\"delta\").mode(\"overwrite\").save(\"/delta/attendance_data\")\n",
    "    except FileNotFoundError as e:\n",
    "        print(f\"Error: {str(e)}\")\n",
    "else:\n",
    "    print(\"Path does not exists\")\n"
   ]
  }
 ],
 "metadata": {
  "application/vnd.databricks.v1+notebook": {
   "dashboards": [],
   "environmentMetadata": null,
   "language": "python",
   "notebookMetadata": {
    "pythonIndentUnit": 4
   },
   "notebookName": "attendance-data-ingestion",
   "widgets": {}
  }
 },
 "nbformat": 4,
 "nbformat_minor": 0
}
