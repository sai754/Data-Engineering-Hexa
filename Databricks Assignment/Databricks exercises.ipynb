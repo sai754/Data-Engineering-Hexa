{
 "cells": [
  {
   "cell_type": "code",
   "execution_count": 0,
   "metadata": {
    "application/vnd.databricks.v1+cell": {
     "cellMetadata": {
      "byteLimit": 2048000,
      "rowLimit": 10000
     },
     "inputWidgets": {},
     "nuid": "6ccccef4-73f5-4876-ac56-2e50ddee66f7",
     "showTitle": false,
     "title": ""
    }
   },
   "outputs": [
    {
     "name": "stdout",
     "output_type": "stream",
     "text": [
      "15\n",
      "+---+----+---+\n",
      "| ID|Name|Age|\n",
      "+---+----+---+\n",
      "|  1|John| 28|\n",
      "|  2|Jane| 32|\n",
      "|  3|Jake| 24|\n",
      "+---+----+---+\n",
      "\n"
     ]
    }
   ],
   "source": [
    "a=10\n",
    "b=5\n",
    "print(a+b)\n",
    "\n",
    "data = [(1, \"John\", 28), (2, \"Jane\", 32), (3, \"Jake\", 24)]\n",
    "df = spark.createDataFrame(data, [\"ID\", \"Name\", \"Age\"])\n",
    "df.show()"
   ]
  },
  {
   "cell_type": "code",
   "execution_count": 0,
   "metadata": {
    "application/vnd.databricks.v1+cell": {
     "cellMetadata": {
      "byteLimit": 2048000,
      "rowLimit": 10000
     },
     "inputWidgets": {},
     "nuid": "3b5d64bc-0af9-4dab-b5ad-7fb5cad7b86d",
     "showTitle": false,
     "title": ""
    }
   },
   "outputs": [],
   "source": [
    "from pyspark.sql.functions import *\n",
    "from pyspark.sql.types import *\n",
    "\n",
    "# Task 3: Streaming Dataframe\n",
    "streaming_df = spark.readStream.format(\"rate\").option(\"rowsPerSecond\", 10).load()\n",
    "\n",
    "# Adding more data to df\n",
    "enriched_df = streaming_df.withColumn(\"event_type\", expr(\"CASE WHEN rand() < 0.25 THEN 'purchase' WHEN rand() < 0.5 THEN 'click' WHEN rand() <  0.75 THEN 'view' ELSE 'add_to_cart' END\")) \\\n",
    "    .withColumn(\"user_id\", (rand() * 10000).cast(\"int\")) \\\n",
    "    .withColumn(\"amount\", (rand() * 1000).cast(\"double\"))\n",
    "\n",
    "# 1. Sum of amount per minute\n",
    "amount_per_minute = enriched_df.withWatermark(\"timestamp\", \"1 minute\").groupBy(window(\"timestamp\", \"1 minute\")).agg(sum(\"amount\").alias(\"total_amount\"))\n",
    "\n",
    "# 2. Sum of amount per event type\n",
    "amount_per_event_type = enriched_df.groupBy(\"event_type\").agg(sum(\"amount\").alias(\"total_amount\"))\n",
    "\n",
    "\n",
    "# Start the streaming queries\n",
    "query1 = amount_per_minute.writeStream.outputMode(\"complete\").format(\"memory\").queryName(\"amount_per_minute_table\").trigger(processingTime=\"10 seconds\").start()\n",
    "\n",
    "query2 = amount_per_event_type.writeStream.outputMode(\"complete\").format(\"memory\").queryName(\"amount_per_event_type_table\").trigger(processingTime=\"10 seconds\") .start()\n",
    "\n",
    "\n",
    "# Wait for the streams to finish\n",
    "# query1.awaitTermination()\n",
    "# query2.awaitTermination()\n"
   ]
  },
  {
   "cell_type": "code",
   "execution_count": 0,
   "metadata": {
    "application/vnd.databricks.v1+cell": {
     "cellMetadata": {
      "byteLimit": 2048000,
      "rowLimit": 10000
     },
     "inputWidgets": {},
     "nuid": "f29605e1-8072-412c-9cd4-1330cf903636",
     "showTitle": false,
     "title": ""
    }
   },
   "outputs": [
    {
     "data": {
      "text/html": [
       "<style scoped>\n",
       "  .table-result-container {\n",
       "    max-height: 300px;\n",
       "    overflow: auto;\n",
       "  }\n",
       "  table, th, td {\n",
       "    border: 1px solid black;\n",
       "    border-collapse: collapse;\n",
       "  }\n",
       "  th, td {\n",
       "    padding: 5px;\n",
       "  }\n",
       "  th {\n",
       "    text-align: left;\n",
       "  }\n",
       "</style><div class='table-result-container'><table class='table-result'><thead style='background-color: white'><tr><th>window</th><th>total_amount</th></tr></thead><tbody><tr><td>List(2024-09-14T14:12:00Z, 2024-09-14T14:13:00Z)</td><td>170740.27425138667</td></tr><tr><td>List(2024-09-14T14:11:00Z, 2024-09-14T14:12:00Z)</td><td>270716.5232336259</td></tr></tbody></table></div>"
      ]
     },
     "metadata": {
      "application/vnd.databricks.v1+output": {
       "addedWidgets": {},
       "aggData": [],
       "aggError": "",
       "aggOverflow": false,
       "aggSchema": [],
       "aggSeriesLimitReached": false,
       "aggType": "",
       "arguments": {},
       "columnCustomDisplayInfos": {},
       "data": [
        [
         [
          "2024-09-14T14:12:00Z",
          "2024-09-14T14:13:00Z"
         ],
         170740.27425138667
        ],
        [
         [
          "2024-09-14T14:11:00Z",
          "2024-09-14T14:12:00Z"
         ],
         270716.5232336259
        ]
       ],
       "datasetInfos": [],
       "dbfsResultPath": null,
       "isJsonSchema": true,
       "metadata": {},
       "overflow": false,
       "plotOptions": {
        "customPlotOptions": {},
        "displayType": "table",
        "pivotAggregation": null,
        "pivotColumns": null,
        "xColumns": null,
        "yColumns": null
       },
       "removedWidgets": [],
       "schema": [
        {
         "metadata": "{\"spark.timeWindow\":true,\"spark.watermarkDelayMs\":60000}",
         "name": "window",
         "type": "{\"type\":\"struct\",\"fields\":[{\"name\":\"start\",\"type\":\"timestamp\",\"nullable\":true,\"metadata\":{}},{\"name\":\"end\",\"type\":\"timestamp\",\"nullable\":true,\"metadata\":{}}]}"
        },
        {
         "metadata": "{}",
         "name": "total_amount",
         "type": "\"double\""
        }
       ],
       "type": "table"
      }
     },
     "output_type": "display_data"
    },
    {
     "data": {
      "text/html": [
       "<style scoped>\n",
       "  .table-result-container {\n",
       "    max-height: 300px;\n",
       "    overflow: auto;\n",
       "  }\n",
       "  table, th, td {\n",
       "    border: 1px solid black;\n",
       "    border-collapse: collapse;\n",
       "  }\n",
       "  th, td {\n",
       "    padding: 5px;\n",
       "  }\n",
       "  th {\n",
       "    text-align: left;\n",
       "  }\n",
       "</style><div class='table-result-container'><table class='table-result'><thead style='background-color: white'><tr><th>event_type</th><th>total_amount</th></tr></thead><tbody><tr><td>purchase</td><td>103424.03047777068</td></tr><tr><td>add_to_cart</td><td>41139.04106217358</td></tr><tr><td>view</td><td>113252.33301180735</td></tr><tr><td>click</td><td>125254.3253001558</td></tr></tbody></table></div>"
      ]
     },
     "metadata": {
      "application/vnd.databricks.v1+output": {
       "addedWidgets": {},
       "aggData": [],
       "aggError": "",
       "aggOverflow": false,
       "aggSchema": [],
       "aggSeriesLimitReached": false,
       "aggType": "",
       "arguments": {},
       "columnCustomDisplayInfos": {},
       "data": [
        [
         "purchase",
         103424.03047777068
        ],
        [
         "add_to_cart",
         41139.04106217358
        ],
        [
         "view",
         113252.33301180735
        ],
        [
         "click",
         125254.3253001558
        ]
       ],
       "datasetInfos": [],
       "dbfsResultPath": null,
       "isJsonSchema": true,
       "metadata": {},
       "overflow": false,
       "plotOptions": {
        "customPlotOptions": {},
        "displayType": "table",
        "pivotAggregation": null,
        "pivotColumns": null,
        "xColumns": null,
        "yColumns": null
       },
       "removedWidgets": [],
       "schema": [
        {
         "metadata": "{}",
         "name": "event_type",
         "type": "\"string\""
        },
        {
         "metadata": "{}",
         "name": "total_amount",
         "type": "\"double\""
        }
       ],
       "type": "table"
      }
     },
     "output_type": "display_data"
    }
   ],
   "source": [
    "\n",
    "query1.stop()\n",
    "\n",
    "query2.stop()\n",
    "\n",
    "display(spark.sql(\"SELECT * FROM amount_per_minute_table\"))\n",
    "\n",
    "display(spark.sql(\"SELECT * FROM amount_per_event_type_table\"))"
   ]
  },
  {
   "cell_type": "code",
   "execution_count": 0,
   "metadata": {
    "application/vnd.databricks.v1+cell": {
     "cellMetadata": {
      "byteLimit": 2048000,
      "rowLimit": 10000
     },
     "inputWidgets": {},
     "nuid": "3cc86710-ed38-4442-a00b-1419270f9a4e",
     "showTitle": false,
     "title": ""
    }
   },
   "outputs": [
    {
     "data": {
      "image/png": "[encoded data removed]",
      "text/plain": [
       "<Figure size 1000x600 with 1 Axes>"
      ]
     },
     "metadata": {},
     "output_type": "display_data"
    }
   ],
   "source": [
    "# Task 4\n",
    "import pandas as pd\n",
    "import matplotlib.pyplot as plt\n",
    "\n",
    "dbutils.fs.cp(\"file:/Workspace/Shared/large_sales_data.csv\",\"dbfs:/FileStore/large_sales_data.csv\")\n",
    "\n",
    "large_sales_df = spark.read.csv(\"dbfs:/FileStore/large_sales_data.csv\", header=True, inferSchema=True).toPandas()\n",
    "\n",
    "# Scatter plot of Total Revenue vs. Total Profit\n",
    "plt.figure(figsize=(10, 6))\n",
    "plt.scatter(large_sales_df[\"Total Revenue\"],large_sales_df[\"Total Profit\"], alpha=0.5)\n",
    "plt.title(\"Total Revenue vs. Total Profit\")\n",
    "plt.xlabel(\"Total Revenue\")\n",
    "plt.ylabel(\"Total Profit\")\n",
    "plt.grid(True)\n",
    "plt.show()\n"
   ]
  },
  {
   "cell_type": "code",
   "execution_count": 0,
   "metadata": {
    "application/vnd.databricks.v1+cell": {
     "cellMetadata": {
      "byteLimit": 2048000,
      "rowLimit": 10000
     },
     "inputWidgets": {},
     "nuid": "4180bbbf-f42e-4428-84bf-fc026fb53836",
     "showTitle": false,
     "title": ""
    }
   },
   "outputs": [
    {
     "data": {
      "image/png": "[encoded data removed]",
      "text/plain": [
       "<Figure size 1200x800 with 1 Axes>"
      ]
     },
     "metadata": {},
     "output_type": "display_data"
    }
   ],
   "source": [
    "# Aggregate data by Region\n",
    "revenue_by_region = large_sales_df.groupby(\"Region\")[\"Total Revenue\"].sum().reset_index()\n",
    "\n",
    "# Bar chart of Total Revenue by Region\n",
    "plt.figure(figsize=(12, 8))\n",
    "plt.bar(revenue_by_region[\"Region\"], revenue_by_region[\"Total Revenue\"], color='skyblue')\n",
    "plt.title(\"Total Revenue by Region\")\n",
    "plt.xlabel(\"Region\")\n",
    "plt.ylabel(\"Total Revenue\")\n",
    "plt.xticks(rotation=45)\n",
    "plt.grid(axis='y', linestyle='--', alpha=0.7)\n",
    "plt.show()\n"
   ]
  },
  {
   "cell_type": "code",
   "execution_count": 0,
   "metadata": {
    "application/vnd.databricks.v1+cell": {
     "cellMetadata": {
      "byteLimit": 2048000,
      "rowLimit": 10000
     },
     "inputWidgets": {},
     "nuid": "cbeafff0-581d-4e55-818a-008ad8a5080e",
     "showTitle": false,
     "title": ""
    }
   },
   "outputs": [
    {
     "data": {
      "image/png": "[encoded data removed]",
      "text/plain": [
       "<Figure size 1000x600 with 1 Axes>"
      ]
     },
     "metadata": {},
     "output_type": "display_data"
    }
   ],
   "source": [
    "# Histogram of Units Sold\n",
    "plt.figure(figsize=(10, 6))\n",
    "plt.hist(large_sales_df[\"Units Sold\"], bins=30, color='lightgreen', edgecolor='black')\n",
    "plt.title(\"Distribution of Units Sold\")\n",
    "plt.xlabel(\"Units Sold\")\n",
    "plt.ylabel(\"Frequency\")\n",
    "plt.grid(True)\n",
    "plt.show()\n"
   ]
  },
  {
   "cell_type": "code",
   "execution_count": 0,
   "metadata": {
    "application/vnd.databricks.v1+cell": {
     "cellMetadata": {},
     "inputWidgets": {},
     "nuid": "28dad967-e0eb-43af-8863-87b89ca63fb2",
     "showTitle": false,
     "title": ""
    }
   },
   "outputs": [],
   "source": [
    "# Task 6\n",
    "\n",
    "# Reading and writing data in various formats from CSV, JSON, and Parquet, Delta\n",
    "dbutils.fs.cp(\"file:/Workspace/Shared/sales1_data.csv\", \"dbfs:/FileStore/sales1_data.csv\")\n",
    "\n",
    "dbutils.fs.cp(\"file:/Workspace/Shared/customer_data.json\", \"dbfs:/FileStore/customer_data.json\")\n",
    "\n",
    "# CSV\n",
    "df_sales = spark.read.format(\"csv\").option(\"header\",\"true\").load(\"dbfs:/FileStore/sales1_data.csv\")\n",
    "\n",
    "# JSON\n",
    "df_customers = spark.read.option(\"multiline\", \"true\").json(\"dbfs:/FileStore/customer_data.json\")\n",
    "\n",
    "# Parquet (Read and Write)\n",
    "df_sales.write.format(\"parquet\").mode(\"overwrite\").save(\"dbfs:/FileStore/sales_parquet\")\n",
    "\n",
    "df_parquet = spark.read.format(\"parquet\").load(\"dbfs:/FileStore/sales_parquet\")\n",
    "\n",
    "# Delta (Read and Write)\n",
    "df_sales.write.format(\"delta\").mode(\"overwrite\").option(\"mergeSchema\", \"true\").save(\"dbfs:/FileStore/sales_delta\")\n",
    "\n",
    "sales_df = spark.read.format(\"delta\").load(\"dbfs:/FileStore/sales_delta\")\n"
   ]
  },
  {
   "cell_type": "code",
   "execution_count": 0,
   "metadata": {
    "application/vnd.databricks.v1+cell": {
     "cellMetadata": {
      "byteLimit": 2048000,
      "rowLimit": 10000
     },
     "inputWidgets": {},
     "nuid": "2c5a6eb8-ab22-4cb5-b431-b272d635169a",
     "showTitle": false,
     "title": ""
    }
   },
   "outputs": [
    {
     "data": {
      "text/html": [
       "<style scoped>\n",
       "  .table-result-container {\n",
       "    max-height: 300px;\n",
       "    overflow: auto;\n",
       "  }\n",
       "  table, th, td {\n",
       "    border: 1px solid black;\n",
       "    border-collapse: collapse;\n",
       "  }\n",
       "  th, td {\n",
       "    padding: 5px;\n",
       "  }\n",
       "  th {\n",
       "    text-align: left;\n",
       "  }\n",
       "</style><div class='table-result-container'><table class='table-result'><thead style='background-color: white'><tr><th>event_type</th><th>total_amount</th></tr></thead><tbody></tbody></table></div>"
      ]
     },
     "metadata": {
      "application/vnd.databricks.v1+output": {
       "addedWidgets": {},
       "aggData": [],
       "aggError": "",
       "aggOverflow": false,
       "aggSchema": [],
       "aggSeriesLimitReached": false,
       "aggType": "",
       "arguments": {},
       "columnCustomDisplayInfos": {},
       "data": [],
       "datasetInfos": [],
       "dbfsResultPath": null,
       "isJsonSchema": true,
       "metadata": {},
       "overflow": false,
       "plotOptions": {
        "customPlotOptions": {},
        "displayType": "table",
        "pivotAggregation": null,
        "pivotColumns": null,
        "xColumns": null,
        "yColumns": null
       },
       "removedWidgets": [],
       "schema": [
        {
         "metadata": "{}",
         "name": "event_type",
         "type": "\"string\""
        },
        {
         "metadata": "{}",
         "name": "total_amount",
         "type": "\"double\""
        }
       ],
       "type": "table"
      }
     },
     "output_type": "display_data"
    },
    {
     "data": {
      "text/html": [
       "<style scoped>\n",
       "  .table-result-container {\n",
       "    max-height: 300px;\n",
       "    overflow: auto;\n",
       "  }\n",
       "  table, th, td {\n",
       "    border: 1px solid black;\n",
       "    border-collapse: collapse;\n",
       "  }\n",
       "  th, td {\n",
       "    padding: 5px;\n",
       "  }\n",
       "  th {\n",
       "    text-align: left;\n",
       "  }\n",
       "</style><div class='table-result-container'><table class='table-result'><thead style='background-color: white'><tr><th>window</th><th>event_type</th><th>total_amount</th></tr></thead><tbody></tbody></table></div>"
      ]
     },
     "metadata": {
      "application/vnd.databricks.v1+output": {
       "addedWidgets": {},
       "aggData": [],
       "aggError": "",
       "aggOverflow": false,
       "aggSchema": [],
       "aggSeriesLimitReached": false,
       "aggType": "",
       "arguments": {},
       "columnCustomDisplayInfos": {},
       "data": [],
       "datasetInfos": [],
       "dbfsResultPath": null,
       "isJsonSchema": true,
       "metadata": {},
       "overflow": false,
       "plotOptions": {
        "customPlotOptions": {},
        "displayType": "table",
        "pivotAggregation": null,
        "pivotColumns": null,
        "xColumns": null,
        "yColumns": null
       },
       "removedWidgets": [],
       "schema": [
        {
         "metadata": "{\"spark.timeWindow\":true,\"spark.watermarkDelayMs\":60000}",
         "name": "window",
         "type": "{\"type\":\"struct\",\"fields\":[{\"name\":\"start\",\"type\":\"timestamp\",\"nullable\":true,\"metadata\":{}},{\"name\":\"end\",\"type\":\"timestamp\",\"nullable\":true,\"metadata\":{}}]}"
        },
        {
         "metadata": "{}",
         "name": "event_type",
         "type": "\"string\""
        },
        {
         "metadata": "{}",
         "name": "total_amount",
         "type": "\"double\""
        }
       ],
       "type": "table"
      }
     },
     "output_type": "display_data"
    }
   ],
   "source": [
    "# Task 7\n",
    "from pyspark.sql.functions import *\n",
    "from pyspark.sql.types import *\n",
    "\n",
    "streaming_df = spark.readStream.format(\"rate\").option(\"rowsPerSecond\", 100).load()\n",
    "\n",
    "# adding additional columns like event_type, user_id, and amount\n",
    "streaming_data = streaming_df.withColumn(\"event_type\", expr(\"CASE WHEN rand() < 0.5 THEN 'purchase' ELSE 'view' END\")).withColumn(\"user_id\", (rand() * 10000).cast(\"int\")) \\\n",
    "    .withColumn(\"amount\", (rand() * 1000).cast(\"double\"))\n",
    "\n",
    "# Sum of amounts per event type\n",
    "aggregated_data = streaming_data.groupBy(\"event_type\").agg(sum(\"amount\").alias(\"total_amount\"))\n",
    "\n",
    "# streaming data to memory\n",
    "query = aggregated_data.writeStream.outputMode(\"complete\").format(\"memory\").queryName(\"aggregated_streaming_data\").start()\n",
    "\n",
    "# Query the in-memory streaming table to visualize\n",
    "display(spark.sql(\"SELECT * FROM aggregated_streaming_data\"))\n",
    "\n",
    "# Grouping data by a time window every 1 minute and event_type\n",
    "windowed_data = streaming_data.withWatermark(\"timestamp\", \"1 minute\").groupBy(window(\"timestamp\", \"1 minute\"), \"event_type\").agg(sum(\"amount\").alias(\"total_amount\"))\n",
    "\n",
    "# Write the windowed data to memory for visualization\n",
    "query_windowed = windowed_data.writeStream.outputMode(\"complete\").format(\"memory\").queryName(\"windowed_streaming_data\").start()\n",
    "\n",
    "# Query the windowed data for visualization\n",
    "display(spark.sql(\"SELECT * FROM windowed_streaming_data\"))\n"
   ]
  },
  {
   "cell_type": "code",
   "execution_count": 0,
   "metadata": {
    "application/vnd.databricks.v1+cell": {
     "cellMetadata": {
      "byteLimit": 2048000,
      "rowLimit": 10000
     },
     "inputWidgets": {},
     "nuid": "23cb4006-4c04-4084-ac8e-7c95fd4f1226",
     "showTitle": false,
     "title": ""
    }
   },
   "outputs": [
    {
     "data": {
      "text/html": [
       "<style scoped>\n",
       "  .table-result-container {\n",
       "    max-height: 300px;\n",
       "    overflow: auto;\n",
       "  }\n",
       "  table, th, td {\n",
       "    border: 1px solid black;\n",
       "    border-collapse: collapse;\n",
       "  }\n",
       "  th, td {\n",
       "    padding: 5px;\n",
       "  }\n",
       "  th {\n",
       "    text-align: left;\n",
       "  }\n",
       "</style><div class='table-result-container'><table class='table-result'><thead style='background-color: white'><tr><th>event_type</th><th>total_amount</th></tr></thead><tbody><tr><td>purchase</td><td>30211.262115684123</td></tr><tr><td>view</td><td>23078.318378733456</td></tr></tbody></table></div>"
      ]
     },
     "metadata": {
      "application/vnd.databricks.v1+output": {
       "addedWidgets": {},
       "aggData": [],
       "aggError": "",
       "aggOverflow": false,
       "aggSchema": [],
       "aggSeriesLimitReached": false,
       "aggType": "",
       "arguments": {},
       "columnCustomDisplayInfos": {},
       "data": [
        [
         "purchase",
         30211.262115684123
        ],
        [
         "view",
         23078.318378733456
        ]
       ],
       "datasetInfos": [],
       "dbfsResultPath": null,
       "isJsonSchema": true,
       "metadata": {},
       "overflow": false,
       "plotOptions": {
        "customPlotOptions": {},
        "displayType": "table",
        "pivotAggregation": null,
        "pivotColumns": null,
        "xColumns": null,
        "yColumns": null
       },
       "removedWidgets": [],
       "schema": [
        {
         "metadata": "{}",
         "name": "event_type",
         "type": "\"string\""
        },
        {
         "metadata": "{}",
         "name": "total_amount",
         "type": "\"double\""
        }
       ],
       "type": "table"
      }
     },
     "output_type": "display_data"
    },
    {
     "data": {
      "text/plain": [
       "Databricks visualization. Run in Databricks to view."
      ]
     },
     "metadata": {
      "application/vnd.databricks.v1.subcommand+json": {
       "baseErrorDetails": null,
       "bindings": {},
       "collapsed": false,
       "command": "%python\n__backend_agg_display_orig = display\n__backend_agg_dfs = []\ndef __backend_agg_display_new(df):\n    __backend_agg_df_modules = [\"pandas.core.frame\", \"databricks.koalas.frame\", \"pyspark.sql.dataframe\", \"pyspark.pandas.frame\", \"pyspark.sql.connect.dataframe\"]\n    if (type(df).__module__ in __backend_agg_df_modules and type(df).__name__ == 'DataFrame') or isinstance(df, list):\n        __backend_agg_dfs.append(df)\n\ndisplay = __backend_agg_display_new\n\ndef __backend_agg_user_code_fn():\n    import base64\n    exec(base64.standard_b64decode(\"ZGlzcGxheShzcGFyay5zcWwoIlNFTEVDVCAqIEZST00gYWdncmVnYXRlZF9zdHJlYW1pbmdfZGF0YSIpKQoKZGlzcGxheShzcGFyay5zcWwoIlNFTEVDVCAqIEZST00gd2luZG93ZWRfc3RyZWFtaW5nX2RhdGEiKSk=\").decode())\n\ntry:\n    # run user code\n    __backend_agg_user_code_fn()\n\n    #reset display function\n    display = __backend_agg_display_orig\n\n    if len(__backend_agg_dfs) > 0:\n        # create a temp view\n        if type(__backend_agg_dfs[0]).__module__ == \"databricks.koalas.frame\":\n            # koalas dataframe\n            __backend_agg_dfs[0].to_spark().createOrReplaceTempView(\"DatabricksView0e83605\")\n        elif type(__backend_agg_dfs[0]).__module__ == \"pandas.core.frame\" or isinstance(__backend_agg_dfs[0], list):\n            # pandas dataframe\n            spark.createDataFrame(__backend_agg_dfs[0]).createOrReplaceTempView(\"DatabricksView0e83605\")\n        else:\n            __backend_agg_dfs[0].createOrReplaceTempView(\"DatabricksView0e83605\")\n        #run backend agg\n        display(spark.sql(\"\"\"WITH q AS (select * from DatabricksView0e83605) SELECT `event_type`,SUM(`total_amount`) `column_939463272` FROM q GROUP BY `event_type`\"\"\"))\n    else:\n        displayHTML(\"dataframe no longer exists. If you're using dataframe.display(), use display(dataframe) instead.\")\n\n\nfinally:\n    spark.sql(\"drop view if exists DatabricksView0e83605\")\n    display = __backend_agg_display_orig\n    del __backend_agg_display_new\n    del __backend_agg_display_orig\n    del __backend_agg_dfs\n    del __backend_agg_user_code_fn\n\n",
       "commandTitle": "Visualization 1",
       "commandType": "auto",
       "commandVersion": 0,
       "commentThread": [],
       "commentsVisible": false,
       "contentSha256Hex": null,
       "customPlotOptions": {
        "redashChart": [
         {
          "key": "type",
          "value": "CHART"
         },
         {
          "key": "options",
          "value": {
           "alignYAxesAtZero": true,
           "coefficient": 1,
           "columnConfigurationMap": {
            "x": {
             "column": "event_type",
             "id": "column_939463271"
            },
            "y": [
             {
              "column": "total_amount",
              "id": "column_939463272",
              "transform": "SUM"
             }
            ]
           },
           "dateTimeFormat": "DD/MM/YYYY HH:mm",
           "direction": {
            "type": "counterclockwise"
           },
           "error_y": {
            "type": "data",
            "visible": true
           },
           "globalSeriesType": "column",
           "isAggregationOn": true,
           "legend": {
            "traceorder": "normal"
           },
           "missingValuesAsZero": true,
           "numberFormat": "0,0.[00000]",
           "percentFormat": "0[.]00%",
           "series": {
            "error_y": {
             "type": "data",
             "visible": true
            },
            "stacking": null
           },
           "seriesOptions": {
            "column_939463272": {
             "name": "total_amount",
             "yAxis": 0
            }
           },
           "showDataLabels": false,
           "sizemode": "diameter",
           "sortX": true,
           "sortY": true,
           "swappedAxes": false,
           "textFormat": "",
           "useAggregationsUi": true,
           "valuesOptions": {},
           "version": 2,
           "xAxis": {
            "labels": {
             "enabled": true
            },
            "type": "-"
           },
           "yAxis": [
            {
             "type": "-"
            },
            {
             "opposite": true,
             "type": "-"
            }
           ]
          }
         }
        ]
       },
       "datasetPreviewNameToCmdIdMap": {},
       "diffDeletes": [],
       "diffInserts": [],
       "displayType": "redashChart",
       "error": null,
       "errorDetails": null,
       "errorSummary": null,
       "errorTraceType": null,
       "finishTime": 0,
       "globalVars": {},
       "guid": "",
       "height": "auto",
       "hideCommandCode": false,
       "hideCommandResult": false,
       "iPythonMetadata": null,
       "inputWidgets": {},
       "isLockedInExamMode": false,
       "latestUser": "a user",
       "latestUserId": null,
       "listResultMetadata": null,
       "metadata": {},
       "nuid": "5d316edc-1eb0-4918-834b-2f996ce3e10b",
       "origId": 0,
       "parentHierarchy": [],
       "pivotAggregation": null,
       "pivotColumns": null,
       "position": 9.5,
       "resultDbfsErrorMessage": null,
       "resultDbfsStatus": "INLINED_IN_TREE",
       "results": null,
       "showCommandTitle": false,
       "startTime": 0,
       "state": "input",
       "streamStates": {},
       "subcommandOptions": {
        "queryPlan": {
         "groups": [
          {
           "column": "event_type",
           "type": "column"
          }
         ],
         "selects": [
          {
           "column": "event_type",
           "type": "column"
          },
          {
           "alias": "column_939463272",
           "args": [
            {
             "column": "total_amount",
             "type": "column"
            }
           ],
           "function": "SUM",
           "type": "function"
          }
         ]
        }
       },
       "submitTime": 0,
       "subtype": "tableResultSubCmd.visualization",
       "tableResultIndex": 0,
       "tableResultSettingsMap": null,
       "useConsistentColors": false,
       "version": "CommandV1",
       "width": "auto",
       "workflows": [],
       "xColumns": null,
       "yColumns": null
      }
     },
     "output_type": "display_data"
    },
    {
     "data": {
      "text/html": [
       "<style scoped>\n",
       "  .table-result-container {\n",
       "    max-height: 300px;\n",
       "    overflow: auto;\n",
       "  }\n",
       "  table, th, td {\n",
       "    border: 1px solid black;\n",
       "    border-collapse: collapse;\n",
       "  }\n",
       "  th, td {\n",
       "    padding: 5px;\n",
       "  }\n",
       "  th {\n",
       "    text-align: left;\n",
       "  }\n",
       "</style><div class='table-result-container'><table class='table-result'><thead style='background-color: white'><tr><th>window</th><th>event_type</th><th>total_amount</th></tr></thead><tbody><tr><td>List(2024-09-15T08:10:00Z, 2024-09-15T08:11:00Z)</td><td>purchase</td><td>1171645.8690808334</td></tr><tr><td>List(2024-09-15T08:10:00Z, 2024-09-15T08:11:00Z)</td><td>view</td><td>1186314.9719436434</td></tr></tbody></table></div>"
      ]
     },
     "metadata": {
      "application/vnd.databricks.v1+output": {
       "addedWidgets": {},
       "aggData": [],
       "aggError": "",
       "aggOverflow": false,
       "aggSchema": [],
       "aggSeriesLimitReached": false,
       "aggType": "",
       "arguments": {},
       "columnCustomDisplayInfos": {},
       "data": [
        [
         [
          "2024-09-15T08:10:00Z",
          "2024-09-15T08:11:00Z"
         ],
         "purchase",
         1171645.8690808334
        ],
        [
         [
          "2024-09-15T08:10:00Z",
          "2024-09-15T08:11:00Z"
         ],
         "view",
         1186314.9719436434
        ]
       ],
       "datasetInfos": [],
       "dbfsResultPath": null,
       "isJsonSchema": true,
       "metadata": {},
       "overflow": false,
       "plotOptions": {
        "customPlotOptions": {},
        "displayType": "table",
        "pivotAggregation": null,
        "pivotColumns": null,
        "xColumns": null,
        "yColumns": null
       },
       "removedWidgets": [],
       "schema": [
        {
         "metadata": "{\"spark.timeWindow\":true,\"spark.watermarkDelayMs\":60000}",
         "name": "window",
         "type": "{\"type\":\"struct\",\"fields\":[{\"name\":\"start\",\"type\":\"timestamp\",\"nullable\":true,\"metadata\":{}},{\"name\":\"end\",\"type\":\"timestamp\",\"nullable\":true,\"metadata\":{}}]}"
        },
        {
         "metadata": "{}",
         "name": "event_type",
         "type": "\"string\""
        },
        {
         "metadata": "{}",
         "name": "total_amount",
         "type": "\"double\""
        }
       ],
       "type": "table"
      }
     },
     "output_type": "display_data"
    },
    {
     "data": {
      "text/plain": [
       "Databricks visualization. Run in Databricks to view."
      ]
     },
     "metadata": {
      "application/vnd.databricks.v1.subcommand+json": {
       "baseErrorDetails": null,
       "bindings": {},
       "collapsed": false,
       "command": "%python\n__backend_agg_display_orig = display\n__backend_agg_dfs = []\ndef __backend_agg_display_new(df):\n    __backend_agg_df_modules = [\"pandas.core.frame\", \"databricks.koalas.frame\", \"pyspark.sql.dataframe\", \"pyspark.pandas.frame\", \"pyspark.sql.connect.dataframe\"]\n    if (type(df).__module__ in __backend_agg_df_modules and type(df).__name__ == 'DataFrame') or isinstance(df, list):\n        __backend_agg_dfs.append(df)\n\ndisplay = __backend_agg_display_new\n\ndef __backend_agg_user_code_fn():\n    import base64\n    exec(base64.standard_b64decode(\"ZGlzcGxheShzcGFyay5zcWwoIlNFTEVDVCAqIEZST00gYWdncmVnYXRlZF9zdHJlYW1pbmdfZGF0YSIpKQoKZGlzcGxheShzcGFyay5zcWwoIlNFTEVDVCAqIEZST00gd2luZG93ZWRfc3RyZWFtaW5nX2RhdGEiKSk=\").decode())\n\ntry:\n    # run user code\n    __backend_agg_user_code_fn()\n\n    #reset display function\n    display = __backend_agg_display_orig\n\n    if len(__backend_agg_dfs) > 1:\n        # create a temp view\n        if type(__backend_agg_dfs[1]).__module__ == \"databricks.koalas.frame\":\n            # koalas dataframe\n            __backend_agg_dfs[1].to_spark().createOrReplaceTempView(\"DatabricksView639645e\")\n        elif type(__backend_agg_dfs[1]).__module__ == \"pandas.core.frame\" or isinstance(__backend_agg_dfs[1], list):\n            # pandas dataframe\n            spark.createDataFrame(__backend_agg_dfs[1]).createOrReplaceTempView(\"DatabricksView639645e\")\n        else:\n            __backend_agg_dfs[1].createOrReplaceTempView(\"DatabricksView639645e\")\n        #run backend agg\n        display(spark.sql(\"\"\"WITH q AS (select * from DatabricksView639645e) SELECT `window`,`event_type`,SUM(`total_amount`) `column_939463276` FROM q GROUP BY `event_type`,`window`\"\"\"))\n    else:\n        displayHTML(\"dataframe no longer exists. If you're using dataframe.display(), use display(dataframe) instead.\")\n\n\nfinally:\n    spark.sql(\"drop view if exists DatabricksView639645e\")\n    display = __backend_agg_display_orig\n    del __backend_agg_display_new\n    del __backend_agg_display_orig\n    del __backend_agg_dfs\n    del __backend_agg_user_code_fn\n\n",
       "commandTitle": "Visualization 1",
       "commandType": "auto",
       "commandVersion": 0,
       "commentThread": [],
       "commentsVisible": false,
       "contentSha256Hex": null,
       "customPlotOptions": {
        "redashChart": [
         {
          "key": "type",
          "value": "CHART"
         },
         {
          "key": "options",
          "value": {
           "alignYAxesAtZero": true,
           "coefficient": 1,
           "columnConfigurationMap": {
            "series": {
             "column": "event_type",
             "id": "column_939463275"
            },
            "x": {
             "column": "window",
             "id": "column_939463274"
            },
            "y": [
             {
              "column": "total_amount",
              "id": "column_939463276",
              "transform": "SUM"
             }
            ]
           },
           "dateTimeFormat": "DD/MM/YYYY HH:mm",
           "direction": {
            "type": "counterclockwise"
           },
           "error_y": {
            "type": "data",
            "visible": true
           },
           "globalSeriesType": "column",
           "isAggregationOn": true,
           "legend": {
            "traceorder": "normal"
           },
           "missingValuesAsZero": true,
           "numberFormat": "0,0.[00000]",
           "percentFormat": "0[.]00%",
           "series": {
            "error_y": {
             "type": "data",
             "visible": true
            },
            "stacking": null
           },
           "seriesOptions": {
            "column_939463276": {
             "name": "total_amount",
             "type": "column",
             "yAxis": 0
            }
           },
           "showDataLabels": false,
           "sizemode": "diameter",
           "sortX": true,
           "sortY": true,
           "swappedAxes": false,
           "textFormat": "",
           "useAggregationsUi": true,
           "valuesOptions": {},
           "version": 2,
           "xAxis": {
            "labels": {
             "enabled": true
            },
            "type": "-"
           },
           "yAxis": [
            {
             "type": "-"
            },
            {
             "opposite": true,
             "type": "-"
            }
           ]
          }
         }
        ]
       },
       "datasetPreviewNameToCmdIdMap": {},
       "diffDeletes": [],
       "diffInserts": [],
       "displayType": "redashChart",
       "error": null,
       "errorDetails": null,
       "errorSummary": null,
       "errorTraceType": null,
       "finishTime": 0,
       "globalVars": {},
       "guid": "",
       "height": "auto",
       "hideCommandCode": false,
       "hideCommandResult": false,
       "iPythonMetadata": null,
       "inputWidgets": {},
       "isLockedInExamMode": false,
       "latestUser": "a user",
       "latestUserId": null,
       "listResultMetadata": null,
       "metadata": {},
       "nuid": "0def698e-6195-47a0-82fa-1d34051be414",
       "origId": 0,
       "parentHierarchy": [],
       "pivotAggregation": null,
       "pivotColumns": null,
       "position": 9.5,
       "resultDbfsErrorMessage": null,
       "resultDbfsStatus": "INLINED_IN_TREE",
       "results": null,
       "showCommandTitle": false,
       "startTime": 0,
       "state": "input",
       "streamStates": {},
       "subcommandOptions": {
        "queryPlan": {
         "groups": [
          {
           "column": "window",
           "type": "column"
          },
          {
           "column": "event_type",
           "type": "column"
          }
         ],
         "selects": [
          {
           "column": "window",
           "type": "column"
          },
          {
           "column": "event_type",
           "type": "column"
          },
          {
           "alias": "column_939463276",
           "args": [
            {
             "column": "total_amount",
             "type": "column"
            }
           ],
           "function": "SUM",
           "type": "function"
          }
         ]
        }
       },
       "submitTime": 0,
       "subtype": "tableResultSubCmd.visualization",
       "tableResultIndex": 1,
       "tableResultSettingsMap": null,
       "useConsistentColors": false,
       "version": "CommandV1",
       "width": "auto",
       "workflows": [],
       "xColumns": null,
       "yColumns": null
      }
     },
     "output_type": "display_data"
    }
   ],
   "source": [
    "display(spark.sql(\"SELECT * FROM aggregated_streaming_data\"))\n",
    "\n",
    "display(spark.sql(\"SELECT * FROM windowed_streaming_data\"))"
   ]
  },
  {
   "cell_type": "code",
   "execution_count": 0,
   "metadata": {
    "application/vnd.databricks.v1+cell": {
     "cellMetadata": {
      "byteLimit": 2048000,
      "rowLimit": 10000
     },
     "inputWidgets": {},
     "nuid": "3c01eec3-a039-47ac-83de-c6b6ce1f5ca6",
     "showTitle": false,
     "title": ""
    }
   },
   "outputs": [],
   "source": [
    "# Stop streaming queries\n",
    "query.stop()\n",
    "query_windowed.stop()"
   ]
  },
  {
   "cell_type": "code",
   "execution_count": 0,
   "metadata": {
    "application/vnd.databricks.v1+cell": {
     "cellMetadata": {
      "byteLimit": 2048000,
      "rowLimit": 10000
     },
     "inputWidgets": {},
     "nuid": "36c6704d-1ffa-4732-b094-d7fbf5affa21",
     "showTitle": false,
     "title": ""
    }
   },
   "outputs": [
    {
     "name": "stdout",
     "output_type": "stream",
     "text": [
      "+--------------------+--------------------+----------+-------------+--------------+----------+---------+----------+----------+----------+---------+-------------+----------+------------+\n",
      "|              Region|             Country| Item_Type|Sales_Channel|Order_Priority|Order_Date| Order_ID| Ship_Date|Units_Sold|Unit_Price|Unit_Cost|Total_Revenue|Total_Cost|Total_Profit|\n",
      "+--------------------+--------------------+----------+-------------+--------------+----------+---------+----------+----------+----------+---------+-------------+----------+------------+\n",
      "|              Europe|          Luxembourg|      Meat|      Offline|             H|2012-04-30|927070415|2012-05-04|      9592|    421.89|   364.69|   4046768.88|3498106.48|    548662.4|\n",
      "|  Sub-Saharan Africa|        Sierra Leone|    Snacks|       Online|             H|2014-12-20|642765271|2015-01-07|      7382|    152.58|    97.44|   1126345.56| 719302.08|   407043.48|\n",
      "|              Europe|              France|    Fruits|      Offline|             C|2011-06-28|978047835|2011-08-05|      4944|      9.33|     6.92|     46127.52|  34212.48|    11915.04|\n",
      "|  Sub-Saharan Africa|       Cote d'Ivoire|    Snacks|       Online|             L|2015-03-13|340779435|2015-03-18|      3063|    152.58|    97.44|    467352.54| 298458.72|   168893.82|\n",
      "|Middle East and N...|United Arab Emirates|    Snacks|       Online|             H|2013-12-12|809133899|2014-01-30|      9556|    152.58|    97.44|   1458054.48| 931136.64|   526917.84|\n",
      "|                Asia|              Taiwan|Vegetables|      Offline|             M|2011-10-25|481597554|2011-11-03|      4273|    154.06|    90.93|    658298.38| 388543.89|   269754.49|\n",
      "|  Sub-Saharan Africa|             Namibia|Vegetables|      Offline|             L|2010-02-24|226969230|2010-03-14|      4094|    154.06|    90.93|    630721.64| 372267.42|   258454.22|\n",
      "|  Sub-Saharan Africa|             Nigeria|   Clothes|      Offline|             L|2011-05-14|534360253|2011-06-01|      7928|    109.28|    35.84|    866371.84| 284139.52|   582232.32|\n",
      "|Australia and Oce...|              Samoa |      Meat|      Offline|             C|2015-02-25|163194453|2015-04-08|      1720|    421.89|   364.69|     725650.8|  627266.8|     98384.0|\n",
      "|Australia and Oce...|               Nauru|    Fruits|      Offline|             M|2014-09-13|193208158|2014-10-17|      3442|      9.33|     6.92|     32113.86|  23818.64|     8295.22|\n",
      "+--------------------+--------------------+----------+-------------+--------------+----------+---------+----------+----------+----------+---------+-------------+----------+------------+\n",
      "\n"
     ]
    }
   ],
   "source": [
    "# Task 8\n",
    "dbutils.fs.cp(\"file:/Workspace/Shared/largest_sales_data.csv\",\"dbfs:/FileStore/largest_sales_data.csv\")\n",
    "\n",
    "df_largest_sales = spark.read.csv(\"dbfs:/FileStore/largest_sales_data.csv\", header=True, inferSchema=True)\n",
    "\n",
    "# Creating a delta table\n",
    "df_largest_sales.write.format(\"delta\").mode(\"overwrite\").option(\"mergeSchema\", \"true\").save(\"dbfs:/FileStore/largest_sales_data\")\n",
    "\n",
    "# Registering delta table\n",
    "spark.sql(\"CREATE TABLE IF NOT EXISTS largest_sales_data USING DELTA LOCATION 'dbfs:/FileStore/largest_sales_data'\")\n",
    "\n",
    "# Updating\n",
    "spark.sql(\"UPDATE largest_sales_data SET `TotalProfit` = `TotalProfit` * 1.5\")\n",
    "\n",
    "# Time Travel\n",
    "spark.sql(\"SELECT * FROM largest_sales_data VERSION AS OF 0 LIMIT 10\").show()"
   ]
  },
  {
   "cell_type": "code",
   "execution_count": 0,
   "metadata": {
    "application/vnd.databricks.v1+cell": {
     "cellMetadata": {
      "byteLimit": 2048000,
      "rowLimit": 10000
     },
     "inputWidgets": {},
     "nuid": "20879b40-c8eb-46a9-b151-f531913f3502",
     "showTitle": false,
     "title": ""
    }
   },
   "outputs": [
    {
     "data": {
      "text/plain": [
       "DataFrame[path: string]"
      ]
     },
     "execution_count": 10,
     "metadata": {},
     "output_type": "execute_result"
    }
   ],
   "source": [
    "# Optimize\n",
    "spark.sql(\"OPTIMIZE largest_sales_data\")\n",
    "\n",
    "# Vacuum\n",
    "spark.sql(\"VACUUM largest_sales_data RETAIN 168 HOURS\")"
   ]
  },
  {
   "cell_type": "code",
   "execution_count": 0,
   "metadata": {
    "application/vnd.databricks.v1+cell": {
     "cellMetadata": {
      "byteLimit": 2048000,
      "rowLimit": 10000
     },
     "inputWidgets": {},
     "nuid": "1753154a-300f-4fc1-9d18-1215a29a2afb",
     "showTitle": false,
     "title": ""
    }
   },
   "outputs": [
    {
     "name": "stdout",
     "output_type": "stream",
     "text": [
      "+--------------------+--------------------+---------------+-------------+--------------+----------+---------+----------+----------+----------+---------+-------------+----------+------------+\n",
      "|              Region|             Country|      Item_Type|Sales_Channel|Order_Priority|Order_Date| Order_ID| Ship_Date|Units_Sold|Unit_Price|Unit_Cost|Total_Revenue|Total_Cost|Total_Profit|\n",
      "+--------------------+--------------------+---------------+-------------+--------------+----------+---------+----------+----------+----------+---------+-------------+----------+------------+\n",
      "|  Sub-Saharan Africa|                Chad|Office Supplies|       Online|             L|2011-01-27|292494523|2011-02-12|      4484|    651.21|   524.96|   2920025.64|2353920.64|    566105.0|\n",
      "|              Europe|              Latvia|      Beverages|       Online|             C|2015-12-28|361825549|2016-01-23|      1075|     47.45|    31.79|     51008.75|  34174.25|     16834.5|\n",
      "|Middle East and N...|            Pakistan|     Vegetables|      Offline|             C|2011-01-13|141515767|2011-02-01|      6515|    154.06|    90.93|    1003700.9| 592408.95|   411291.95|\n",
      "|  Sub-Saharan Africa|Democratic Republ...|      Household|       Online|             C|2012-09-11|500364005|2012-10-06|      7683|    668.27|   502.54|   5134318.41|3861014.82|  1273303.59|\n",
      "|              Europe|      Czech Republic|      Beverages|       Online|             C|2015-10-27|127481591|2015-12-05|      3491|     47.45|    31.79|    165647.95| 110978.89|    54669.06|\n",
      "|  Sub-Saharan Africa|        South Africa|      Beverages|      Offline|             H|2012-07-10|482292354|2012-08-21|      9880|     47.45|    31.79|     468806.0|  314085.2|    154720.8|\n",
      "|                Asia|                Laos|     Vegetables|       Online|             L|2011-02-20|844532620|2011-03-20|      4825|    154.06|    90.93|     743339.5| 438737.25|   304602.25|\n",
      "|                Asia|               China|      Baby Food|       Online|             C|2017-04-10|564251220|2017-05-12|      3330|    255.28|   159.42|     850082.4|  530868.6|    319213.8|\n",
      "|  Sub-Saharan Africa|             Eritrea|           Meat|       Online|             L|2014-11-21|411809480|2015-01-10|      2431|    421.89|   364.69|   1025614.59| 886561.39|    139053.2|\n",
      "|Central America a...|               Haiti|Office Supplies|       Online|             C|2015-07-04|327881228|2015-07-20|      6197|    651.21|   524.96|   4035548.37|3253177.12|   782371.25|\n",
      "+--------------------+--------------------+---------------+-------------+--------------+----------+---------+----------+----------+----------+---------+-------------+----------+------------+\n",
      "\n"
     ]
    }
   ],
   "source": [
    "# Task 9\n",
    "# Managed and unmanaged table\n",
    "dbutils.fs.cp(\"file:/Workspace/Shared/large_sales_data.csv\",\"dbfs:/FileStore/large_sales_data.csv\")\n",
    "\n",
    "large_sale_df = spark.read.csv(\"dbfs:/FileStore/large_sales_data.csv\", header=True, inferSchema=True)\n",
    "\n",
    "large_sale_df.createOrReplaceTempView(\"large_sales_data_view\")\n",
    "\n",
    "# Managed Table\n",
    "spark.sql(\"CREATE TABLE IF NOT EXISTS managed_sales_table USING DELTA AS SELECT * FROM large_sales_data_view\")\n",
    "\n",
    "\n",
    "spark.sql(\"SELECT * from managed_sales_table LIMIT 10\").show()\n",
    "\n",
    "spark.sql(\"UPDATE managed_sales_table SET Total_Revenue = Total_Revenue * 1.1\")"
   ]
  },
  {
   "cell_type": "code",
   "execution_count": 0,
   "metadata": {
    "application/vnd.databricks.v1+cell": {
     "cellMetadata": {
      "byteLimit": 2048000,
      "rowLimit": 10000
     },
     "inputWidgets": {},
     "nuid": "e01e4767-4918-4f66-a44d-e2c260cac2d5",
     "showTitle": false,
     "title": ""
    }
   },
   "outputs": [
    {
     "name": "stdout",
     "output_type": "stream",
     "text": [
      "+--------------------+--------------------+---------------+------------+-------------+----------+---------+----------+---------+---------+--------+------------+----------+-----------+\n",
      "|              Region|             Country|       ItemType|SalesChannel|OrderPriority| OrderDate|  OrderID|  ShipDate|UnitsSold|UnitPrice|UnitCost|TotalRevenue| TotalCost|TotalProfit|\n",
      "+--------------------+--------------------+---------------+------------+-------------+----------+---------+----------+---------+---------+--------+------------+----------+-----------+\n",
      "|  Sub-Saharan Africa|                Chad|Office Supplies|      Online|            L|2011-01-27|292494523|2011-02-12|     4484|   651.21|  524.96|  2920025.64|2353920.64|   566105.0|\n",
      "|              Europe|              Latvia|      Beverages|      Online|            C|2015-12-28|361825549|2016-01-23|     1075|    47.45|   31.79|    51008.75|  34174.25|    16834.5|\n",
      "|Middle East and N...|            Pakistan|     Vegetables|     Offline|            C|2011-01-13|141515767|2011-02-01|     6515|   154.06|   90.93|   1003700.9| 592408.95|  411291.95|\n",
      "|  Sub-Saharan Africa|Democratic Republ...|      Household|      Online|            C|2012-09-11|500364005|2012-10-06|     7683|   668.27|  502.54|  5134318.41|3861014.82| 1273303.59|\n",
      "|              Europe|      Czech Republic|      Beverages|      Online|            C|2015-10-27|127481591|2015-12-05|     3491|    47.45|   31.79|   165647.95| 110978.89|   54669.06|\n",
      "|  Sub-Saharan Africa|        South Africa|      Beverages|     Offline|            H|2012-07-10|482292354|2012-08-21|     9880|    47.45|   31.79|    468806.0|  314085.2|   154720.8|\n",
      "|                Asia|                Laos|     Vegetables|      Online|            L|2011-02-20|844532620|2011-03-20|     4825|   154.06|   90.93|    743339.5| 438737.25|  304602.25|\n",
      "|                Asia|               China|      Baby Food|      Online|            C|2017-04-10|564251220|2017-05-12|     3330|   255.28|  159.42|    850082.4|  530868.6|   319213.8|\n",
      "|  Sub-Saharan Africa|             Eritrea|           Meat|      Online|            L|2014-11-21|411809480|2015-01-10|     2431|   421.89|  364.69|  1025614.59| 886561.39|   139053.2|\n",
      "|Central America a...|               Haiti|Office Supplies|      Online|            C|2015-07-04|327881228|2015-07-20|     6197|   651.21|  524.96|  4035548.37|3253177.12|  782371.25|\n",
      "+--------------------+--------------------+---------------+------------+-------------+----------+---------+----------+---------+---------+--------+------------+----------+-----------+\n",
      "\n"
     ]
    }
   ],
   "source": [
    "# Unmanaged Table\n",
    "spark.sql(\"CREATE TABLE IF NOT EXISTS unmanage_sales_table USING DELTA LOCATION 'dbfs:/FileStore/unmanage_sales_table' AS SELECT * FROM large_sales_data_view\")\n",
    "\n",
    "spark.sql(\"SELECT * FROM unmanage_sales_table LIMIT 10\").show()\n",
    "\n",
    "spark.sql(\"UPDATE unmanage_sales_table SET Total_Revenue = Total_Revenue * 1.1\")"
   ]
  },
  {
   "cell_type": "code",
   "execution_count": 0,
   "metadata": {
    "application/vnd.databricks.v1+cell": {
     "cellMetadata": {
      "byteLimit": 2048000,
      "rowLimit": 10000
     },
     "inputWidgets": {},
     "nuid": "751216ba-c7df-4e0d-963e-73d515e2fbf4",
     "showTitle": false,
     "title": ""
    }
   },
   "outputs": [
    {
     "name": "stdout",
     "output_type": "stream",
     "text": [
      "+--------------------+--------------------+---------------+-------------+--------------+----------+---------+----------+----------+----------+---------+-------------+----------+------------+\n",
      "|              Region|             Country|      Item Type|Sales Channel|Order Priority|Order Date| Order ID| Ship Date|Units Sold|Unit Price|Unit Cost|Total Revenue|Total Cost|Total Profit|\n",
      "+--------------------+--------------------+---------------+-------------+--------------+----------+---------+----------+----------+----------+---------+-------------+----------+------------+\n",
      "|  Sub-Saharan Africa|                Chad|Office Supplies|       Online|             L|2011-01-27|292494523|2011-02-12|      4484|    651.21|   524.96|   2920025.64|2353920.64|    566105.0|\n",
      "|              Europe|              Latvia|      Beverages|       Online|             C|2015-12-28|361825549|2016-01-23|      1075|     47.45|    31.79|     51008.75|  34174.25|     16834.5|\n",
      "|Middle East and N...|            Pakistan|     Vegetables|      Offline|             C|2011-01-13|141515767|2011-02-01|      6515|    154.06|    90.93|    1003700.9| 592408.95|   411291.95|\n",
      "|  Sub-Saharan Africa|Democratic Republ...|      Household|       Online|             C|2012-09-11|500364005|2012-10-06|      7683|    668.27|   502.54|   5134318.41|3861014.82|  1273303.59|\n",
      "|              Europe|      Czech Republic|      Beverages|       Online|             C|2015-10-27|127481591|2015-12-05|      3491|     47.45|    31.79|    165647.95| 110978.89|    54669.06|\n",
      "|  Sub-Saharan Africa|        South Africa|      Beverages|      Offline|             H|2012-07-10|482292354|2012-08-21|      9880|     47.45|    31.79|     468806.0|  314085.2|    154720.8|\n",
      "|                Asia|                Laos|     Vegetables|       Online|             L|2011-02-20|844532620|2011-03-20|      4825|    154.06|    90.93|     743339.5| 438737.25|   304602.25|\n",
      "|                Asia|               China|      Baby Food|       Online|             C|2017-04-10|564251220|2017-05-12|      3330|    255.28|   159.42|     850082.4|  530868.6|    319213.8|\n",
      "|  Sub-Saharan Africa|             Eritrea|           Meat|       Online|             L|2014-11-21|411809480|2015-01-10|      2431|    421.89|   364.69|   1025614.59| 886561.39|    139053.2|\n",
      "|Central America a...|               Haiti|Office Supplies|       Online|             C|2015-07-04|327881228|2015-07-20|      6197|    651.21|   524.96|   4035548.37|3253177.12|   782371.25|\n",
      "+--------------------+--------------------+---------------+-------------+--------------+----------+---------+----------+----------+----------+---------+-------------+----------+------------+\n",
      "\n",
      "+--------------------+--------------------+---------------+-------------+--------------+----------+---------+----------+----------+----------+---------+-------------+----------+------------+\n",
      "|              Region|             Country|      Item Type|Sales Channel|Order Priority|Order Date| Order ID| Ship Date|Units Sold|Unit Price|Unit Cost|Total Revenue|Total Cost|Total Profit|\n",
      "+--------------------+--------------------+---------------+-------------+--------------+----------+---------+----------+----------+----------+---------+-------------+----------+------------+\n",
      "|  Sub-Saharan Africa|                Chad|Office Supplies|       Online|             L|2011-01-27|292494523|2011-02-12|      4484|    651.21|   524.96|   2920025.64|2353920.64|    566105.0|\n",
      "|              Europe|              Latvia|      Beverages|       Online|             C|2015-12-28|361825549|2016-01-23|      1075|     47.45|    31.79|     51008.75|  34174.25|     16834.5|\n",
      "|Middle East and N...|            Pakistan|     Vegetables|      Offline|             C|2011-01-13|141515767|2011-02-01|      6515|    154.06|    90.93|    1003700.9| 592408.95|   411291.95|\n",
      "|  Sub-Saharan Africa|Democratic Republ...|      Household|       Online|             C|2012-09-11|500364005|2012-10-06|      7683|    668.27|   502.54|   5134318.41|3861014.82|  1273303.59|\n",
      "|              Europe|      Czech Republic|      Beverages|       Online|             C|2015-10-27|127481591|2015-12-05|      3491|     47.45|    31.79|    165647.95| 110978.89|    54669.06|\n",
      "|  Sub-Saharan Africa|        South Africa|      Beverages|      Offline|             H|2012-07-10|482292354|2012-08-21|      9880|     47.45|    31.79|     468806.0|  314085.2|    154720.8|\n",
      "|                Asia|                Laos|     Vegetables|       Online|             L|2011-02-20|844532620|2011-03-20|      4825|    154.06|    90.93|     743339.5| 438737.25|   304602.25|\n",
      "|                Asia|               China|      Baby Food|       Online|             C|2017-04-10|564251220|2017-05-12|      3330|    255.28|   159.42|     850082.4|  530868.6|    319213.8|\n",
      "|  Sub-Saharan Africa|             Eritrea|           Meat|       Online|             L|2014-11-21|411809480|2015-01-10|      2431|    421.89|   364.69|   1025614.59| 886561.39|    139053.2|\n",
      "|Central America a...|               Haiti|Office Supplies|       Online|             C|2015-07-04|327881228|2015-07-20|      6197|    651.21|   524.96|   4035548.37|3253177.12|   782371.25|\n",
      "+--------------------+--------------------+---------------+-------------+--------------+----------+---------+----------+----------+----------+---------+-------------+----------+------------+\n",
      "\n"
     ]
    }
   ],
   "source": [
    "# Task 10\n",
    "# Temporary and Global View\n",
    "sales_view_df = spark.read.csv(\"dbfs:/FileStore/large_sales_data.csv\", header=True, inferSchema=True)\n",
    "\n",
    "# Global View\n",
    "sales_view_df.createOrReplaceGlobalTempView(\"global_sales_view\")\n",
    "\n",
    "# Temporary View\n",
    "sales_view_df.createOrReplaceTempView(\"temp_sales_data_view\")\n",
    "\n",
    "spark.sql(\"SELECT * FROM temp_sales_data_view LIMIT 10\").show()\n",
    "spark.sql(\"SELECT * FROM global_temp.global_sales_view LIMIT 10\").show()"
   ]
  }
 ],
 "metadata": {
  "application/vnd.databricks.v1+notebook": {
   "dashboards": [],
   "environmentMetadata": {
    "base_environment": "",
    "client": "1"
   },
   "language": "python",
   "notebookMetadata": {
    "pythonIndentUnit": 4
   },
   "notebookName": "Databricks exercises",
   "widgets": {}
  },
  "language_info": {
   "name": "python"
  }
 },
 "nbformat": 4,
 "nbformat_minor": 0
}
