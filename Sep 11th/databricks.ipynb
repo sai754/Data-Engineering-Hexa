{
 "cells": [
  {
   "cell_type": "code",
   "execution_count": null,
   "metadata": {},
   "outputs": [],
   "source": [
    "# Create a spark dataframe\n",
    "data = [(\"John\",25),(\"Jane\",30),(\"Sam\",22)]\n",
    "df = spark.createDataFrame(data, [\"Name\",\"Age\"])\n",
    "\n",
    "display(df)"
   ]
  },
  {
   "cell_type": "code",
   "execution_count": null,
   "metadata": {},
   "outputs": [],
   "source": [
    "# Display the data as a bar chart\n",
    "df.groupBy(\"Age\").count().display()"
   ]
  },
  {
   "cell_type": "code",
   "execution_count": null,
   "metadata": {},
   "outputs": [],
   "source": [
    "# Read streaming data from a socket (simulated source)\n",
    "lines = spark.readStream.format(\"socket\").option(\"host\", \"localhost\").option(\"port\", 9999).load()\n",
    "\n",
    "# Split the lines into words\n",
    "words = lines.selectExpr(\"explode(split(value,' ')) as word\")\n",
    "\n",
    "# Count the number of words\n",
    "wordCounts = words.groupBy(\"word\").count()\n",
    "\n",
    "# Start the streaming query to console\n",
    "query = wordCounts.writeStream.outputMode(\"complete\").format(\"console\").start()\n",
    "\n",
    "# Await termination\n",
    "query.awaitTermination()"
   ]
  },
  {
   "cell_type": "code",
   "execution_count": null,
   "metadata": {},
   "outputs": [],
   "source": [
    "from pyspark.sql.functions import col\n",
    "from pyspark.sql import functions as F\n",
    "\n",
    "# Load the data set\n",
    "df = spark.read.format(\"csv\").option(\"header\", \"true\").option(\"inferSchema\", \"true\").load(\"file:/Workspace/Users/azuser2121_mml.local@techademy.com/Shared/data.csv\")\n",
    "\n",
    "df.show(10)\n",
    "\n",
    "# Data Cleaning\n",
    "df = df.dropna()\n",
    "df_filtered = df.filter(col(\"ARR_DELAY\")<=0)\n",
    "df_filtered.show()\n",
    "\n",
    "# Aggregation and Summary statistics\n",
    "df_grouped = df.groupBy(\"CARRIER\").agg(F.avg(\"ARR_DELAY\").alias(\"average_delay\"))\n",
    "df_grouped.show()\n",
    "\n",
    "df.select(F.min(\"ARR_DELAY\"), F.max(\"ARR_DELAY\"), F.mean(\"ARR_DELAY\")).show()\n",
    "\n",
    "# Data visualization\n",
    "flight_count = df_filtered.groupBy(\"CARRIER\").count()\n",
    "\n",
    "flight_count_pd = flight_count.toPandas()\n",
    "display(flight_count_pd)\n",
    "\n",
    "\n",
    "\n"
   ]
  }
 ],
 "metadata": {
  "language_info": {
   "name": "python"
  }
 },
 "nbformat": 4,
 "nbformat_minor": 2
}
