{
 "cells": [
  {
   "cell_type": "code",
   "execution_count": 0,
   "metadata": {
    "application/vnd.databricks.v1+cell": {
     "cellMetadata": {
      "byteLimit": 2048000,
      "rowLimit": 10000
     },
     "inputWidgets": {},
     "nuid": "5a736f99-df70-44d4-8eb9-227e7e5e168d",
     "showTitle": false,
     "title": ""
    }
   },
   "outputs": [
    {
     "output_type": "display_data",
     "data": {
      "text/html": [
       "<style scoped>\n",
       "  .table-result-container {\n",
       "    max-height: 300px;\n",
       "    overflow: auto;\n",
       "  }\n",
       "  table, th, td {\n",
       "    border: 1px solid black;\n",
       "    border-collapse: collapse;\n",
       "  }\n",
       "  th, td {\n",
       "    padding: 5px;\n",
       "  }\n",
       "  th {\n",
       "    text-align: left;\n",
       "  }\n",
       "</style><div class='table-result-container'><table class='table-result'><thead style='background-color: white'><tr><th>Name</th><th>Age</th></tr></thead><tbody><tr><td>John</td><td>25</td></tr><tr><td>Jane</td><td>30</td></tr><tr><td>Sam</td><td>22</td></tr></tbody></table></div>"
      ]
     },
     "metadata": {
      "application/vnd.databricks.v1+output": {
       "addedWidgets": {},
       "aggData": [],
       "aggError": "",
       "aggOverflow": false,
       "aggSchema": [],
       "aggSeriesLimitReached": false,
       "aggType": "",
       "arguments": {},
       "columnCustomDisplayInfos": {},
       "data": [
        [
         "John",
         25
        ],
        [
         "Jane",
         30
        ],
        [
         "Sam",
         22
        ]
       ],
       "datasetInfos": [],
       "dbfsResultPath": null,
       "isJsonSchema": true,
       "metadata": {},
       "overflow": false,
       "plotOptions": {
        "customPlotOptions": {},
        "displayType": "table",
        "pivotAggregation": null,
        "pivotColumns": null,
        "xColumns": null,
        "yColumns": null
       },
       "removedWidgets": [],
       "schema": [
        {
         "metadata": "{}",
         "name": "Name",
         "type": "\"string\""
        },
        {
         "metadata": "{}",
         "name": "Age",
         "type": "\"long\""
        }
       ],
       "type": "table"
      }
     },
     "output_type": "display_data"
    }
   ],
   "source": [
    "# Create a spark dataframe\n",
    "data = [(\"John\",25),(\"Jane\",30),(\"Sam\",22)]\n",
    "df = spark.createDataFrame(data, [\"Name\",\"Age\"])\n",
    "\n",
    "display(df)"
   ]
  },
  {
   "cell_type": "code",
   "execution_count": 0,
   "metadata": {
    "application/vnd.databricks.v1+cell": {
     "cellMetadata": {
      "byteLimit": 2048000,
      "rowLimit": 10000
     },
     "inputWidgets": {},
     "nuid": "d401bf4e-58be-430d-934c-4847411bc599",
     "showTitle": false,
     "title": ""
    }
   },
   "outputs": [
    {
     "output_type": "display_data",
     "data": {
      "text/html": [
       "<style scoped>\n",
       "  .table-result-container {\n",
       "    max-height: 300px;\n",
       "    overflow: auto;\n",
       "  }\n",
       "  table, th, td {\n",
       "    border: 1px solid black;\n",
       "    border-collapse: collapse;\n",
       "  }\n",
       "  th, td {\n",
       "    padding: 5px;\n",
       "  }\n",
       "  th {\n",
       "    text-align: left;\n",
       "  }\n",
       "</style><div class='table-result-container'><table class='table-result'><thead style='background-color: white'><tr><th>Age</th><th>count</th></tr></thead><tbody><tr><td>25</td><td>1</td></tr><tr><td>30</td><td>1</td></tr><tr><td>22</td><td>1</td></tr></tbody></table></div>"
      ]
     },
     "metadata": {
      "application/vnd.databricks.v1+output": {
       "addedWidgets": {},
       "aggData": [],
       "aggError": "",
       "aggOverflow": false,
       "aggSchema": [],
       "aggSeriesLimitReached": false,
       "aggType": "",
       "arguments": {},
       "columnCustomDisplayInfos": {},
       "data": [
        [
         25,
         1
        ],
        [
         30,
         1
        ],
        [
         22,
         1
        ]
       ],
       "datasetInfos": [],
       "dbfsResultPath": null,
       "isJsonSchema": true,
       "metadata": {},
       "overflow": false,
       "plotOptions": {
        "customPlotOptions": {},
        "displayType": "table",
        "pivotAggregation": null,
        "pivotColumns": null,
        "xColumns": null,
        "yColumns": null
       },
       "removedWidgets": [],
       "schema": [
        {
         "metadata": "{}",
         "name": "Age",
         "type": "\"long\""
        },
        {
         "metadata": "{}",
         "name": "count",
         "type": "\"long\""
        }
       ],
       "type": "table"
      }
     },
     "output_type": "display_data"
    }
   ],
   "source": [
    "# Display the data as a bar chart\n",
    "df.groupBy(\"Age\").count().display()"
   ]
  },
  {
   "cell_type": "code",
   "execution_count": 0,
   "metadata": {
    "application/vnd.databricks.v1+cell": {
     "cellMetadata": {},
     "inputWidgets": {},
     "nuid": "85b5eab8-487b-457c-a43b-c415c0bd9797",
     "showTitle": false,
     "title": ""
    }
   },
   "outputs": [],
   "source": [
    "# Read streaming data from a socket (simulated source)\n",
    "lines = spark.readStream.format(\"socket\").option(\"host\", \"localhost\").option(\"port\", 9999).load()\n",
    "\n",
    "# Split the lines into words\n",
    "words = lines.selectExpr(\"explode(split(value,' ')) as word\")\n",
    "\n",
    "# Count the number of words\n",
    "wordCounts = words.groupBy(\"word\").count()\n",
    "\n",
    "# Start the streaming query to console\n",
    "query = wordCounts.writeStream.outputMode(\"complete\").format(\"console\").start()\n",
    "\n",
    "# Await termination\n",
    "query.awaitTermination()"
   ]
  },
  {
   "cell_type": "code",
   "execution_count": 0,
   "metadata": {
    "application/vnd.databricks.v1+cell": {
     "cellMetadata": {
      "byteLimit": 2048000,
      "rowLimit": 10000
     },
     "inputWidgets": {},
     "nuid": "e34afc15-c0d7-4cc0-aabc-6f5f7057a62f",
     "showTitle": false,
     "title": ""
    }
   },
   "outputs": [
    {
     "output_type": "stream",
     "name": "stdout",
     "output_type": "stream",
     "text": [
      "+----------+-------+------+----+---------+---------+\n|   FL_DATE|CARRIER|ORIGIN|DEST|DEP_DELAY|ARR_DELAY|\n+----------+-------+------+----+---------+---------+\n|2023-09-01|     AA|   ATL| DFW|        5|       10|\n|2023-09-01|     UA|   LAX| JFK|       -3|        0|\n|2023-09-01|     DL|   SFO| ORD|        7|       15|\n|2023-09-02|     AA|   DFW| LAX|        0|       -5|\n|2023-09-02|     UA|   JFK| ATL|       -2|        0|\n|2023-09-02|     DL|   ORD| LAX|       20|       30|\n|2023-09-03|     AA|   LAX| SFO|       10|       12|\n|2023-09-03|     UA|   ATL| ORD|        0|      -10|\n|2023-09-03|     DL|   SFO| JFK|        5|       25|\n|2023-09-04|     AA|   JFK| LAX|        0|        0|\n+----------+-------+------+----+---------+---------+\nonly showing top 10 rows\n\n+----------+-------+------+----+---------+---------+\n|   FL_DATE|CARRIER|ORIGIN|DEST|DEP_DELAY|ARR_DELAY|\n+----------+-------+------+----+---------+---------+\n|2023-09-01|     AA|   ATL| DFW|        5|       10|\n|2023-09-01|     UA|   LAX| JFK|       -3|        0|\n|2023-09-01|     DL|   SFO| ORD|        7|       15|\n|2023-09-02|     UA|   JFK| ATL|       -2|        0|\n|2023-09-02|     DL|   ORD| LAX|       20|       30|\n|2023-09-03|     AA|   LAX| SFO|       10|       12|\n|2023-09-03|     DL|   SFO| JFK|        5|       25|\n|2023-09-04|     AA|   JFK| LAX|        0|        0|\n|2023-09-04|     UA|   ORD| ATL|       15|       20|\n|2023-09-05|     AA|   LAX| JFK|       20|       25|\n|2023-09-05|     UA|   DFW| ATL|        0|        0|\n|2023-09-05|     DL|   JFK| LAX|       10|       15|\n+----------+-------+------+----+---------+---------+\n\n+-------+-------------+\n|CARRIER|average_delay|\n+-------+-------------+\n|     UA|          2.0|\n|     AA|          8.4|\n|     DL|         15.0|\n+-------+-------------+\n\n+--------------+--------------+-----------------+\n|min(ARR_DELAY)|max(ARR_DELAY)|   avg(ARR_DELAY)|\n+--------------+--------------+-----------------+\n|           -10|            30|8.466666666666667|\n+--------------+--------------+-----------------+\n\n"
     ]
    },
    {
     "output_type": "display_data",
     "data": {
      "text/html": [
       "<style scoped>\n",
       "  .table-result-container {\n",
       "    max-height: 300px;\n",
       "    overflow: auto;\n",
       "  }\n",
       "  table, th, td {\n",
       "    border: 1px solid black;\n",
       "    border-collapse: collapse;\n",
       "  }\n",
       "  th, td {\n",
       "    padding: 5px;\n",
       "  }\n",
       "  th {\n",
       "    text-align: left;\n",
       "  }\n",
       "</style><div class='table-result-container'><table class='table-result'><thead style='background-color: white'><tr><th>CARRIER</th><th>count</th></tr></thead><tbody><tr><td>UA</td><td>4</td></tr><tr><td>AA</td><td>4</td></tr><tr><td>DL</td><td>4</td></tr></tbody></table></div>"
      ]
     },
     "metadata": {
      "application/vnd.databricks.v1+output": {
       "addedWidgets": {},
       "aggData": [],
       "aggError": "",
       "aggOverflow": false,
       "aggSchema": [],
       "aggSeriesLimitReached": false,
       "aggType": "",
       "arguments": {},
       "columnCustomDisplayInfos": {},
       "data": [
        [
         "UA",
         4
        ],
        [
         "AA",
         4
        ],
        [
         "DL",
         4
        ]
       ],
       "datasetInfos": [],
       "dbfsResultPath": null,
       "isJsonSchema": true,
       "metadata": {},
       "overflow": false,
       "plotOptions": {
        "customPlotOptions": {},
        "displayType": "table",
        "pivotAggregation": null,
        "pivotColumns": null,
        "xColumns": null,
        "yColumns": null
       },
       "removedWidgets": [],
       "schema": [
        {
         "metadata": "{}",
         "name": "CARRIER",
         "type": "\"string\""
        },
        {
         "metadata": "{}",
         "name": "count",
         "type": "\"long\""
        }
       ],
       "type": "table"
      }
     },
     "output_type": "display_data"
    }
   ],
   "source": [
    "from pyspark.sql.functions import col\n",
    "from pyspark.sql import functions as F\n",
    "\n",
    "# Load the data set\n",
    "df = spark.read.format(\"csv\").option(\"header\", \"true\").option(\"inferSchema\", \"true\").load(\"file:/Workspace/Users/azuser2121_mml.local@techademy.com/Shared/data.csv\")\n",
    "\n",
    "df.show(10)\n",
    "\n",
    "# Data Cleaning\n",
    "df = df.dropna()\n",
    "df_filtered = df.filter(col(\"ARR_DELAY\")>=0)\n",
    "df_filtered.show()\n",
    "\n",
    "# Aggregation and Summary statistics\n",
    "df_grouped = df.groupBy(\"CARRIER\").agg(F.avg(\"ARR_DELAY\").alias(\"average_delay\"))\n",
    "df_grouped.show()\n",
    "\n",
    "df.select(F.min(\"ARR_DELAY\"), F.max(\"ARR_DELAY\"), F.mean(\"ARR_DELAY\")).show()\n",
    "\n",
    "# Data visualization\n",
    "flight_count = df_filtered.groupBy(\"CARRIER\").count()\n",
    "\n",
    "flight_count_pd = flight_count.toPandas()\n",
    "display(flight_count_pd)\n",
    "\n",
    "\n",
    "\n"
   ]
  }
 ],
 "metadata": {
  "application/vnd.databricks.v1+notebook": {
   "dashboards": [],
   "environmentMetadata": {
    "base_environment": "",
    "client": "1"
   },
   "language": "python",
   "notebookMetadata": {
    "pythonIndentUnit": 4
   },
   "notebookName": "Data Processing",
   "widgets": {}
  }
 },
 "nbformat": 4,
 "nbformat_minor": 0
}
