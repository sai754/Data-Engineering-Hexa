{
 "cells": [
  {
   "cell_type": "code",
   "execution_count": 0,
   "metadata": {
    "application/vnd.databricks.v1+cell": {
     "cellMetadata": {
      "byteLimit": 2048000,
      "rowLimit": 10000
     },
     "inputWidgets": {},
     "nuid": "1fcc7510-35f4-4aba-8fe7-adbc4bb81f4c",
     "showTitle": false,
     "title": ""
    }
   },
   "outputs": [
    {
     "output_type": "stream",
     "name": "stdout",
     "output_type": "stream",
     "text": [
      "+-----------+-----+---------+-----------+-----+\n|   Category|Price|ProductID|ProductName|Stock|\n+-----------+-----+---------+-----------+-----+\n|Electronics| 1200|      101|     Laptop|   35|\n|Electronics|  800|      102| Smartphone|   80|\n|  Furniture|  150|      103| Desk Chair|   60|\n|Electronics|  300|      104|    Monitor|   45|\n|  Furniture|  350|      105|       Desk|   25|\n+-----------+-----+---------+-----------+-----+\n\n+-----------+-----+---------+-----------+-----+\n|   Category|Price|ProductID|ProductName|Stock|\n+-----------+-----+---------+-----------+-----+\n|Electronics| 1200|      101|     Laptop|   35|\n|Electronics|  800|      102| Smartphone|   80|\n|Electronics|  300|      104|    Monitor|   45|\n+-----------+-----+---------+-----------+-----+\n\n+-------------------+\n|TotalFurnitureStock|\n+-------------------+\n|                 85|\n+-------------------+\n\n+------------+\n|AveragePrice|\n+------------+\n|       560.0|\n+------------+\n\n"
     ]
    }
   ],
   "source": [
    "from pyspark.sql.functions import col\n",
    "from pyspark.sql import functions as F\n",
    "\n",
    "dbutils.fs.cp(\"file:/Workspace/Shared/product_data.json\", \"dbfs:/FileStore/product_data.json\")\n",
    "\n",
    "product_df = spark.read.option(\"multiline\", \"true\").json(\"/FileStore/product_data.json\")\n",
    "\n",
    "# First 10 rows\n",
    "product_df.show(10)\n",
    "\n",
    "# Data Cleaning\n",
    "# Remove rows where stock is less than 30\n",
    "product_df_cleaned = product_df.filter(col(\"Stock\") >= 30)\n",
    "\n",
    "# Filter products in Electronics category\n",
    "df_electronics = product_df_cleaned.filter(col(\"Category\") == \"Electronics\")\n",
    "df_electronics.show()\n",
    "\n",
    "# Data Aggregation\n",
    "#  Calculate the total stock for products in the \"Furniture\" category.\n",
    "df_furniture = product_df.filter(col(\"Category\") == \"Furniture\").agg(F.sum(\"Stock\").alias(\"TotalFurnitureStock\"))\n",
    "df_furniture.show()\n",
    "\n",
    "#  Find the average price of all products in the dataset.\n",
    "df_avg = product_df.agg(F.avg(\"Price\").alias(\"AveragePrice\"))\n",
    "df_avg.show()\n",
    "\n",
    "# Write to a Json file\n",
    "df_electronics.write.format(\"json\").mode(\"overwrite\").save(\"file:/Workspace/Shared/cleaned_electronics.json\")\n",
    "\n",
    "\n"
   ]
  }
 ],
 "metadata": {
  "application/vnd.databricks.v1+notebook": {
   "dashboards": [],
   "environmentMetadata": {
    "base_environment": "",
    "client": "1"
   },
   "language": "python",
   "notebookMetadata": {
    "pythonIndentUnit": 4
   },
   "notebookName": "Product_json_processing",
   "widgets": {}
  }
 },
 "nbformat": 4,
 "nbformat_minor": 0
}
