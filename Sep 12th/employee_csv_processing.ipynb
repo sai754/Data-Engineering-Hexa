{
 "cells": [
  {
   "cell_type": "code",
   "execution_count": 0,
   "metadata": {
    "application/vnd.databricks.v1+cell": {
     "cellMetadata": {
      "byteLimit": 2048000,
      "rowLimit": 10000
     },
     "inputWidgets": {},
     "nuid": "5988cea0-cffa-45fd-bfbe-ea5f720fdf00",
     "showTitle": false,
     "title": ""
    }
   },
   "outputs": [
    {
     "output_type": "stream",
     "name": "stdout",
     "output_type": "stream",
     "text": [
      "+----------+-------------+----------+-----------+------+\n|EmployeeID|         Name|Department|JoiningDate|Salary|\n+----------+-------------+----------+-----------+------+\n|      1001|     John Doe|        HR| 2021-01-15| 55000|\n|      1002|   Jane Smith|        IT| 2020-03-10| 62000|\n|      1003|Emily Johnson|   Finance| 2019-07-01| 70000|\n|      1004|Michael Brown|        HR| 2018-12-22| 54000|\n|      1005| David Wilson|        IT| 2021-06-25| 58000|\n|      1006|  Linda Davis|   Finance| 2020-11-15| 67000|\n|      1007| James Miller|        IT| 2019-08-14| 65000|\n|      1008|Barbara Moore|        HR| 2021-03-29| 53000|\n+----------+-------------+----------+-----------+------+\n\n+----------+------------+----------+-----------+------+\n|EmployeeID|        Name|Department|JoiningDate|Salary|\n+----------+------------+----------+-----------+------+\n|      1001|    John Doe|        HR| 2021-01-15| 55000|\n|      1005|David Wilson|        IT| 2021-06-25| 58000|\n+----------+------------+----------+-----------+------+\n\n+----------+------------------+\n|Department|     AverageSalary|\n+----------+------------------+\n|        HR|           54000.0|\n|   Finance|           68500.0|\n|        IT|61666.666666666664|\n+----------+------------------+\n\n+----------+-------------+\n|Department|EmployeeCount|\n+----------+-------------+\n|        HR|            3|\n|   Finance|            2|\n|        IT|            3|\n+----------+-------------+\n\n"
     ]
    }
   ],
   "source": [
    "from pyspark.sql.functions import col\n",
    "from pyspark.sql import functions as F\n",
    "\n",
    "dbutils.fs.cp(\"file:/Workspace/Shared/employee_data.csv\", \"dbfs:/FileStore/employee_data.csv\")\n",
    " \n",
    "\n",
    "employee_df = spark.read.format(\"csv\").option(\"header\", \"true\").load(\"/FileStore/employee_data.csv\")\n",
    "\n",
    "# Task\n",
    "# Load the CSV Data and display first 10 rows\n",
    "employee_df.show(10)\n",
    "\n",
    "# Data Cleaning\n",
    "# Remove rows where the salary is less than 55,000\n",
    "df_cleaned = employee_df.filter(col(\"salary\") >= 55000)\n",
    "\n",
    "# Filter the employees who joined after the year 2020.\n",
    "df_cleaned = df_cleaned.withColumn(\"JoiningDate\", F.to_date(col(\"JoiningDate\"),\"yyyy-MM-dd\"))\n",
    "df_filtered = df_cleaned.filter(F.year(col(\"JoiningDate\"))>2020)\n",
    "df_filtered.show()\n",
    "\n",
    "# Data aggregation\n",
    "\n",
    "df_avg_salary = employee_df.groupBy(\"Department\").agg(F.avg(\"Salary\").alias(\"AverageSalary\"))\n",
    "df_avg_salary.show()\n",
    "\n",
    "df_employee_count = employee_df.groupBy(\"Department\").agg(F.count(\"EmployeeID\").alias(\"EmployeeCount\"))\n",
    "df_employee_count.show()\n",
    "\n",
    "# Write data to csv\n",
    "df_filtered.write.format(\"csv\").option(\"header\", \"true\").save(\"/FileStore/employee_filtered.csv\")\n",
    " "
   ]
  }
 ],
 "metadata": {
  "application/vnd.databricks.v1+notebook": {
   "dashboards": [],
   "environmentMetadata": {
    "base_environment": "",
    "client": "1"
   },
   "language": "python",
   "notebookMetadata": {
    "pythonIndentUnit": 4
   },
   "notebookName": "employee_csv_processing",
   "widgets": {}
  }
 },
 "nbformat": 4,
 "nbformat_minor": 0
}
